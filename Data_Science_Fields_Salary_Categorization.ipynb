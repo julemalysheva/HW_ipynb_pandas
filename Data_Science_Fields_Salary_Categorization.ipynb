{
  "nbformat": 4,
  "nbformat_minor": 0,
  "metadata": {
    "colab": {
      "provenance": []
    },
    "kernelspec": {
      "name": "python3",
      "display_name": "Python 3"
    },
    "language_info": {
      "name": "python"
    }
  },
  "cells": [
    {
      "cell_type": "code",
      "execution_count": 2,
      "metadata": {
        "id": "7Y0td-40XTSC"
      },
      "outputs": [],
      "source": [
        "# Библиотека для работы с табличными данными\n",
        "import pandas as pd\n",
        "# Библиотека для вычислений линейной алгебры\n",
        "import numpy as np\n",
        "# Библиотеки для визуализации\n",
        "import seaborn as sns\n",
        "import matplotlib.pyplot as plt"
      ]
    },
    {
      "cell_type": "markdown",
      "source": [
        "# Чтение и предварительный просмотр данных\n",
        "\n",
        "В своей практике использую набор данных:\n",
        "\n",
        " \"Категоризация заработной платы в областях науки о данных\""
      ],
      "metadata": {
        "id": "adsYUxP_8RAe"
      }
    },
    {
      "cell_type": "code",
      "source": [
        "# Считываем файл .csv в dataframe с помощью библиотеки pandas\n",
        "df = pd.read_csv('/content/drive/MyDrive/Python/Data_Science_Fields_Salary_Categorization.csv')\n",
        "# удаляю лишний столбец\n",
        "df.drop(['Unnamed: 0'],axis=1, inplace=True)"
      ],
      "metadata": {
        "id": "pYhC7WF9Xo3a"
      },
      "execution_count": 112,
      "outputs": []
    },
    {
      "cell_type": "markdown",
      "source": [
        "**О наборе данных**\n",
        "\n",
        "Набор данных по категоризации заработной платы в областях науки о данных содержит 9 столбцов: -\n",
        "\t\t\t\t\t\t\t\t\n",
        "***Working_Year***\tГод выплаты заработной платы (2020, 2021, 2022)\n",
        "\n",
        "***Designation***\tРабочая роль в течение года\n",
        "\n",
        "***Experience***\tУровень опыта работы в течение года. \n",
        "\n",
        "[ EN - начальный уровень / Junior, MI - средний уровень / Intermediate, SE - старший уровень / Expert, EX - исполнительный уровень / Director ]\n",
        "\n",
        "***Employment_Status***\tТип занятости для роли. \n",
        "\n",
        "[PT – неполный рабочий день, FT – полный рабочий день, CT – контракт, FL – фриланс]\n",
        "\n",
        "***Salary_In_Rupees*** \tОбщая сумма выплаченной брутто-зарплаты в рупиях.\n",
        "\n",
        "***Employee_Location***\tОсновная страна проживания сотрудника в течение рабочего года в виде кода страны ISO 3166 (ссылка PFB на код страны ISO 3166)\n",
        "ISO 3166 Country Code -\n",
        "https://en.wikipedia.org/wiki/List_of_ISO_3166_country_codes\n",
        "\n",
        "***Company_Location***\tСтрана главного офиса или договаривающегося филиала работодателя.\n",
        "\n",
        "***Company_Size***\tСреднее количество людей, проработавших в компании в течение года. \n",
        "\n",
        "[ S (малый) — менее 50 сотрудников, M (средний) — от 50 до 250 сотрудников, L (крупный) — более 250 сотрудников]\n",
        "\n",
        "***Remote_Working_Ratio***\tОбщий объем работы, выполненной удаленно. \n",
        "\n",
        "[0 – нет удаленной работы (менее 20 %), 50 – частично удаленная работа, 100 – полностью удаленная работа (более 80 %)]\n"
      ],
      "metadata": {
        "id": "VFnt27429ARq"
      }
    },
    {
      "cell_type": "code",
      "source": [
        "# Смотри первые 5 строк \n",
        "df.head(5)"
      ],
      "metadata": {
        "colab": {
          "base_uri": "https://localhost:8080/",
          "height": 250
        },
        "id": "sS69utGXXtpo",
        "outputId": "d3ea2314-1870-44b7-d6d7-3cce402bbec3"
      },
      "execution_count": 113,
      "outputs": [
        {
          "output_type": "execute_result",
          "data": {
            "text/plain": [
              "   Working_Year                 Designation Experience Employment_Status  \\\n",
              "0          2020              Data Scientist         MI                FT   \n",
              "1          2020  Machine Learning Scientist         SE                FT   \n",
              "2          2020           Big Data Engineer         SE                FT   \n",
              "3          2020        Product Data Analyst         MI                FT   \n",
              "4          2020   Machine Learning Engineer         SE                FT   \n",
              "\n",
              "  Salary_In_Rupees Employee_Location Company_Location Company_Size  \\\n",
              "0     6,352,272.00                DE               DE            L   \n",
              "1    20,688,070.00                JP               JP            S   \n",
              "2     8,674,985.00                GB               GB            M   \n",
              "3     1,591,390.00                HN               HN            S   \n",
              "4    11,935,425.00                US               US            L   \n",
              "\n",
              "   Remote_Working_Ratio  \n",
              "0                     0  \n",
              "1                     0  \n",
              "2                    50  \n",
              "3                     0  \n",
              "4                    50  "
            ],
            "text/html": [
              "\n",
              "  <div id=\"df-bf41ce83-c363-463c-9c4d-2c8d09d7e4bf\">\n",
              "    <div class=\"colab-df-container\">\n",
              "      <div>\n",
              "<style scoped>\n",
              "    .dataframe tbody tr th:only-of-type {\n",
              "        vertical-align: middle;\n",
              "    }\n",
              "\n",
              "    .dataframe tbody tr th {\n",
              "        vertical-align: top;\n",
              "    }\n",
              "\n",
              "    .dataframe thead th {\n",
              "        text-align: right;\n",
              "    }\n",
              "</style>\n",
              "<table border=\"1\" class=\"dataframe\">\n",
              "  <thead>\n",
              "    <tr style=\"text-align: right;\">\n",
              "      <th></th>\n",
              "      <th>Working_Year</th>\n",
              "      <th>Designation</th>\n",
              "      <th>Experience</th>\n",
              "      <th>Employment_Status</th>\n",
              "      <th>Salary_In_Rupees</th>\n",
              "      <th>Employee_Location</th>\n",
              "      <th>Company_Location</th>\n",
              "      <th>Company_Size</th>\n",
              "      <th>Remote_Working_Ratio</th>\n",
              "    </tr>\n",
              "  </thead>\n",
              "  <tbody>\n",
              "    <tr>\n",
              "      <th>0</th>\n",
              "      <td>2020</td>\n",
              "      <td>Data Scientist</td>\n",
              "      <td>MI</td>\n",
              "      <td>FT</td>\n",
              "      <td>6,352,272.00</td>\n",
              "      <td>DE</td>\n",
              "      <td>DE</td>\n",
              "      <td>L</td>\n",
              "      <td>0</td>\n",
              "    </tr>\n",
              "    <tr>\n",
              "      <th>1</th>\n",
              "      <td>2020</td>\n",
              "      <td>Machine Learning Scientist</td>\n",
              "      <td>SE</td>\n",
              "      <td>FT</td>\n",
              "      <td>20,688,070.00</td>\n",
              "      <td>JP</td>\n",
              "      <td>JP</td>\n",
              "      <td>S</td>\n",
              "      <td>0</td>\n",
              "    </tr>\n",
              "    <tr>\n",
              "      <th>2</th>\n",
              "      <td>2020</td>\n",
              "      <td>Big Data Engineer</td>\n",
              "      <td>SE</td>\n",
              "      <td>FT</td>\n",
              "      <td>8,674,985.00</td>\n",
              "      <td>GB</td>\n",
              "      <td>GB</td>\n",
              "      <td>M</td>\n",
              "      <td>50</td>\n",
              "    </tr>\n",
              "    <tr>\n",
              "      <th>3</th>\n",
              "      <td>2020</td>\n",
              "      <td>Product Data Analyst</td>\n",
              "      <td>MI</td>\n",
              "      <td>FT</td>\n",
              "      <td>1,591,390.00</td>\n",
              "      <td>HN</td>\n",
              "      <td>HN</td>\n",
              "      <td>S</td>\n",
              "      <td>0</td>\n",
              "    </tr>\n",
              "    <tr>\n",
              "      <th>4</th>\n",
              "      <td>2020</td>\n",
              "      <td>Machine Learning Engineer</td>\n",
              "      <td>SE</td>\n",
              "      <td>FT</td>\n",
              "      <td>11,935,425.00</td>\n",
              "      <td>US</td>\n",
              "      <td>US</td>\n",
              "      <td>L</td>\n",
              "      <td>50</td>\n",
              "    </tr>\n",
              "  </tbody>\n",
              "</table>\n",
              "</div>\n",
              "      <button class=\"colab-df-convert\" onclick=\"convertToInteractive('df-bf41ce83-c363-463c-9c4d-2c8d09d7e4bf')\"\n",
              "              title=\"Convert this dataframe to an interactive table.\"\n",
              "              style=\"display:none;\">\n",
              "        \n",
              "  <svg xmlns=\"http://www.w3.org/2000/svg\" height=\"24px\"viewBox=\"0 0 24 24\"\n",
              "       width=\"24px\">\n",
              "    <path d=\"M0 0h24v24H0V0z\" fill=\"none\"/>\n",
              "    <path d=\"M18.56 5.44l.94 2.06.94-2.06 2.06-.94-2.06-.94-.94-2.06-.94 2.06-2.06.94zm-11 1L8.5 8.5l.94-2.06 2.06-.94-2.06-.94L8.5 2.5l-.94 2.06-2.06.94zm10 10l.94 2.06.94-2.06 2.06-.94-2.06-.94-.94-2.06-.94 2.06-2.06.94z\"/><path d=\"M17.41 7.96l-1.37-1.37c-.4-.4-.92-.59-1.43-.59-.52 0-1.04.2-1.43.59L10.3 9.45l-7.72 7.72c-.78.78-.78 2.05 0 2.83L4 21.41c.39.39.9.59 1.41.59.51 0 1.02-.2 1.41-.59l7.78-7.78 2.81-2.81c.8-.78.8-2.07 0-2.86zM5.41 20L4 18.59l7.72-7.72 1.47 1.35L5.41 20z\"/>\n",
              "  </svg>\n",
              "      </button>\n",
              "      \n",
              "  <style>\n",
              "    .colab-df-container {\n",
              "      display:flex;\n",
              "      flex-wrap:wrap;\n",
              "      gap: 12px;\n",
              "    }\n",
              "\n",
              "    .colab-df-convert {\n",
              "      background-color: #E8F0FE;\n",
              "      border: none;\n",
              "      border-radius: 50%;\n",
              "      cursor: pointer;\n",
              "      display: none;\n",
              "      fill: #1967D2;\n",
              "      height: 32px;\n",
              "      padding: 0 0 0 0;\n",
              "      width: 32px;\n",
              "    }\n",
              "\n",
              "    .colab-df-convert:hover {\n",
              "      background-color: #E2EBFA;\n",
              "      box-shadow: 0px 1px 2px rgba(60, 64, 67, 0.3), 0px 1px 3px 1px rgba(60, 64, 67, 0.15);\n",
              "      fill: #174EA6;\n",
              "    }\n",
              "\n",
              "    [theme=dark] .colab-df-convert {\n",
              "      background-color: #3B4455;\n",
              "      fill: #D2E3FC;\n",
              "    }\n",
              "\n",
              "    [theme=dark] .colab-df-convert:hover {\n",
              "      background-color: #434B5C;\n",
              "      box-shadow: 0px 1px 3px 1px rgba(0, 0, 0, 0.15);\n",
              "      filter: drop-shadow(0px 1px 2px rgba(0, 0, 0, 0.3));\n",
              "      fill: #FFFFFF;\n",
              "    }\n",
              "  </style>\n",
              "\n",
              "      <script>\n",
              "        const buttonEl =\n",
              "          document.querySelector('#df-bf41ce83-c363-463c-9c4d-2c8d09d7e4bf button.colab-df-convert');\n",
              "        buttonEl.style.display =\n",
              "          google.colab.kernel.accessAllowed ? 'block' : 'none';\n",
              "\n",
              "        async function convertToInteractive(key) {\n",
              "          const element = document.querySelector('#df-bf41ce83-c363-463c-9c4d-2c8d09d7e4bf');\n",
              "          const dataTable =\n",
              "            await google.colab.kernel.invokeFunction('convertToInteractive',\n",
              "                                                     [key], {});\n",
              "          if (!dataTable) return;\n",
              "\n",
              "          const docLinkHtml = 'Like what you see? Visit the ' +\n",
              "            '<a target=\"_blank\" href=https://colab.research.google.com/notebooks/data_table.ipynb>data table notebook</a>'\n",
              "            + ' to learn more about interactive tables.';\n",
              "          element.innerHTML = '';\n",
              "          dataTable['output_type'] = 'display_data';\n",
              "          await google.colab.output.renderOutput(dataTable, element);\n",
              "          const docLink = document.createElement('div');\n",
              "          docLink.innerHTML = docLinkHtml;\n",
              "          element.appendChild(docLink);\n",
              "        }\n",
              "      </script>\n",
              "    </div>\n",
              "  </div>\n",
              "  "
            ]
          },
          "metadata": {},
          "execution_count": 113
        }
      ]
    },
    {
      "cell_type": "code",
      "source": [
        "# смотрим крайние 5 строк\n",
        "df.tail(5)"
      ],
      "metadata": {
        "colab": {
          "base_uri": "https://localhost:8080/",
          "height": 206
        },
        "id": "ly93EIMsYiwy",
        "outputId": "7ab64d05-1e5e-4c86-9d96-7624bd2a3978"
      },
      "execution_count": 114,
      "outputs": [
        {
          "output_type": "execute_result",
          "data": {
            "text/plain": [
              "     Working_Year    Designation Experience Employment_Status  \\\n",
              "602          2022  Data Engineer         SE                FT   \n",
              "603          2022  Data Engineer         SE                FT   \n",
              "604          2022   Data Analyst         SE                FT   \n",
              "605          2022   Data Analyst         SE                FT   \n",
              "606          2022   AI Scientist         MI                FT   \n",
              "\n",
              "    Salary_In_Rupees Employee_Location Company_Location Company_Size  \\\n",
              "602    12,253,703.00                US               US            M   \n",
              "603    10,025,757.00                US               US            M   \n",
              "604    10,264,466.00                US               US            M   \n",
              "605    11,935,425.00                US               US            M   \n",
              "606    15,913,900.00                IN               US            L   \n",
              "\n",
              "     Remote_Working_Ratio  \n",
              "602                   100  \n",
              "603                   100  \n",
              "604                     0  \n",
              "605                   100  \n",
              "606                   100  "
            ],
            "text/html": [
              "\n",
              "  <div id=\"df-92493983-a108-42d4-8ad7-2239c2b978f9\">\n",
              "    <div class=\"colab-df-container\">\n",
              "      <div>\n",
              "<style scoped>\n",
              "    .dataframe tbody tr th:only-of-type {\n",
              "        vertical-align: middle;\n",
              "    }\n",
              "\n",
              "    .dataframe tbody tr th {\n",
              "        vertical-align: top;\n",
              "    }\n",
              "\n",
              "    .dataframe thead th {\n",
              "        text-align: right;\n",
              "    }\n",
              "</style>\n",
              "<table border=\"1\" class=\"dataframe\">\n",
              "  <thead>\n",
              "    <tr style=\"text-align: right;\">\n",
              "      <th></th>\n",
              "      <th>Working_Year</th>\n",
              "      <th>Designation</th>\n",
              "      <th>Experience</th>\n",
              "      <th>Employment_Status</th>\n",
              "      <th>Salary_In_Rupees</th>\n",
              "      <th>Employee_Location</th>\n",
              "      <th>Company_Location</th>\n",
              "      <th>Company_Size</th>\n",
              "      <th>Remote_Working_Ratio</th>\n",
              "    </tr>\n",
              "  </thead>\n",
              "  <tbody>\n",
              "    <tr>\n",
              "      <th>602</th>\n",
              "      <td>2022</td>\n",
              "      <td>Data Engineer</td>\n",
              "      <td>SE</td>\n",
              "      <td>FT</td>\n",
              "      <td>12,253,703.00</td>\n",
              "      <td>US</td>\n",
              "      <td>US</td>\n",
              "      <td>M</td>\n",
              "      <td>100</td>\n",
              "    </tr>\n",
              "    <tr>\n",
              "      <th>603</th>\n",
              "      <td>2022</td>\n",
              "      <td>Data Engineer</td>\n",
              "      <td>SE</td>\n",
              "      <td>FT</td>\n",
              "      <td>10,025,757.00</td>\n",
              "      <td>US</td>\n",
              "      <td>US</td>\n",
              "      <td>M</td>\n",
              "      <td>100</td>\n",
              "    </tr>\n",
              "    <tr>\n",
              "      <th>604</th>\n",
              "      <td>2022</td>\n",
              "      <td>Data Analyst</td>\n",
              "      <td>SE</td>\n",
              "      <td>FT</td>\n",
              "      <td>10,264,466.00</td>\n",
              "      <td>US</td>\n",
              "      <td>US</td>\n",
              "      <td>M</td>\n",
              "      <td>0</td>\n",
              "    </tr>\n",
              "    <tr>\n",
              "      <th>605</th>\n",
              "      <td>2022</td>\n",
              "      <td>Data Analyst</td>\n",
              "      <td>SE</td>\n",
              "      <td>FT</td>\n",
              "      <td>11,935,425.00</td>\n",
              "      <td>US</td>\n",
              "      <td>US</td>\n",
              "      <td>M</td>\n",
              "      <td>100</td>\n",
              "    </tr>\n",
              "    <tr>\n",
              "      <th>606</th>\n",
              "      <td>2022</td>\n",
              "      <td>AI Scientist</td>\n",
              "      <td>MI</td>\n",
              "      <td>FT</td>\n",
              "      <td>15,913,900.00</td>\n",
              "      <td>IN</td>\n",
              "      <td>US</td>\n",
              "      <td>L</td>\n",
              "      <td>100</td>\n",
              "    </tr>\n",
              "  </tbody>\n",
              "</table>\n",
              "</div>\n",
              "      <button class=\"colab-df-convert\" onclick=\"convertToInteractive('df-92493983-a108-42d4-8ad7-2239c2b978f9')\"\n",
              "              title=\"Convert this dataframe to an interactive table.\"\n",
              "              style=\"display:none;\">\n",
              "        \n",
              "  <svg xmlns=\"http://www.w3.org/2000/svg\" height=\"24px\"viewBox=\"0 0 24 24\"\n",
              "       width=\"24px\">\n",
              "    <path d=\"M0 0h24v24H0V0z\" fill=\"none\"/>\n",
              "    <path d=\"M18.56 5.44l.94 2.06.94-2.06 2.06-.94-2.06-.94-.94-2.06-.94 2.06-2.06.94zm-11 1L8.5 8.5l.94-2.06 2.06-.94-2.06-.94L8.5 2.5l-.94 2.06-2.06.94zm10 10l.94 2.06.94-2.06 2.06-.94-2.06-.94-.94-2.06-.94 2.06-2.06.94z\"/><path d=\"M17.41 7.96l-1.37-1.37c-.4-.4-.92-.59-1.43-.59-.52 0-1.04.2-1.43.59L10.3 9.45l-7.72 7.72c-.78.78-.78 2.05 0 2.83L4 21.41c.39.39.9.59 1.41.59.51 0 1.02-.2 1.41-.59l7.78-7.78 2.81-2.81c.8-.78.8-2.07 0-2.86zM5.41 20L4 18.59l7.72-7.72 1.47 1.35L5.41 20z\"/>\n",
              "  </svg>\n",
              "      </button>\n",
              "      \n",
              "  <style>\n",
              "    .colab-df-container {\n",
              "      display:flex;\n",
              "      flex-wrap:wrap;\n",
              "      gap: 12px;\n",
              "    }\n",
              "\n",
              "    .colab-df-convert {\n",
              "      background-color: #E8F0FE;\n",
              "      border: none;\n",
              "      border-radius: 50%;\n",
              "      cursor: pointer;\n",
              "      display: none;\n",
              "      fill: #1967D2;\n",
              "      height: 32px;\n",
              "      padding: 0 0 0 0;\n",
              "      width: 32px;\n",
              "    }\n",
              "\n",
              "    .colab-df-convert:hover {\n",
              "      background-color: #E2EBFA;\n",
              "      box-shadow: 0px 1px 2px rgba(60, 64, 67, 0.3), 0px 1px 3px 1px rgba(60, 64, 67, 0.15);\n",
              "      fill: #174EA6;\n",
              "    }\n",
              "\n",
              "    [theme=dark] .colab-df-convert {\n",
              "      background-color: #3B4455;\n",
              "      fill: #D2E3FC;\n",
              "    }\n",
              "\n",
              "    [theme=dark] .colab-df-convert:hover {\n",
              "      background-color: #434B5C;\n",
              "      box-shadow: 0px 1px 3px 1px rgba(0, 0, 0, 0.15);\n",
              "      filter: drop-shadow(0px 1px 2px rgba(0, 0, 0, 0.3));\n",
              "      fill: #FFFFFF;\n",
              "    }\n",
              "  </style>\n",
              "\n",
              "      <script>\n",
              "        const buttonEl =\n",
              "          document.querySelector('#df-92493983-a108-42d4-8ad7-2239c2b978f9 button.colab-df-convert');\n",
              "        buttonEl.style.display =\n",
              "          google.colab.kernel.accessAllowed ? 'block' : 'none';\n",
              "\n",
              "        async function convertToInteractive(key) {\n",
              "          const element = document.querySelector('#df-92493983-a108-42d4-8ad7-2239c2b978f9');\n",
              "          const dataTable =\n",
              "            await google.colab.kernel.invokeFunction('convertToInteractive',\n",
              "                                                     [key], {});\n",
              "          if (!dataTable) return;\n",
              "\n",
              "          const docLinkHtml = 'Like what you see? Visit the ' +\n",
              "            '<a target=\"_blank\" href=https://colab.research.google.com/notebooks/data_table.ipynb>data table notebook</a>'\n",
              "            + ' to learn more about interactive tables.';\n",
              "          element.innerHTML = '';\n",
              "          dataTable['output_type'] = 'display_data';\n",
              "          await google.colab.output.renderOutput(dataTable, element);\n",
              "          const docLink = document.createElement('div');\n",
              "          docLink.innerHTML = docLinkHtml;\n",
              "          element.appendChild(docLink);\n",
              "        }\n",
              "      </script>\n",
              "    </div>\n",
              "  </div>\n",
              "  "
            ]
          },
          "metadata": {},
          "execution_count": 114
        }
      ]
    },
    {
      "cell_type": "code",
      "source": [
        "# смотрим полную информацию\n",
        "# количество строк и столбцов, название столбцов, наличие пустых ячеек, тип данных, память\n",
        "df.info()"
      ],
      "metadata": {
        "colab": {
          "base_uri": "https://localhost:8080/"
        },
        "id": "0C-wv9goYvsu",
        "outputId": "c5f65e34-9d6c-492c-dc9f-f734640a2b0a"
      },
      "execution_count": 115,
      "outputs": [
        {
          "output_type": "stream",
          "name": "stdout",
          "text": [
            "<class 'pandas.core.frame.DataFrame'>\n",
            "RangeIndex: 607 entries, 0 to 606\n",
            "Data columns (total 9 columns):\n",
            " #   Column                Non-Null Count  Dtype \n",
            "---  ------                --------------  ----- \n",
            " 0   Working_Year          607 non-null    int64 \n",
            " 1   Designation           607 non-null    object\n",
            " 2   Experience            607 non-null    object\n",
            " 3   Employment_Status     607 non-null    object\n",
            " 4   Salary_In_Rupees      607 non-null    object\n",
            " 5   Employee_Location     607 non-null    object\n",
            " 6   Company_Location      607 non-null    object\n",
            " 7   Company_Size          607 non-null    object\n",
            " 8   Remote_Working_Ratio  607 non-null    int64 \n",
            "dtypes: int64(2), object(7)\n",
            "memory usage: 42.8+ KB\n"
          ]
        }
      ]
    },
    {
      "cell_type": "markdown",
      "source": [
        "В наборе значения объема выплаченной заработной платы имеют тип object\n",
        "\n",
        "4   Salary_In_Rupees      607 non-null    object"
      ],
      "metadata": {
        "id": "PD2KnguxBffg"
      }
    },
    {
      "cell_type": "code",
      "source": [
        "# нужно изменить тип данных заработной платы для проведения расчетов\n",
        "# преобразуем сначала в string\n",
        "df[['Salary_In_Rupees']] = df[['Salary_In_Rupees']].convert_dtypes()\n",
        "# убираем лишнее\n",
        "df[['Salary_In_Rupees']].replace('[.00|,]','', regex= True, inplace=True)\n",
        "# преобразуем в int\n",
        "df[['Salary_In_Rupees']] = df[['Salary_In_Rupees']].astype(np.int64)\n",
        "# для удобства переводим рупии в доллары, умножив на 0,012192\n",
        "df[['Salary_In_Rupees']] = round(df[['Salary_In_Rupees']]*0.012192,2)\n",
        "# проверяем полученный результат\n",
        "df[['Salary_In_Rupees']] \n"
      ],
      "metadata": {
        "colab": {
          "base_uri": "https://localhost:8080/",
          "height": 510
        },
        "id": "XAmQZkLSc5Av",
        "outputId": "1f9b0819-0ff6-48c3-8e21-fa235d58da13"
      },
      "execution_count": 116,
      "outputs": [
        {
          "output_type": "stream",
          "name": "stderr",
          "text": [
            "/usr/local/lib/python3.7/dist-packages/pandas/core/frame.py:5244: SettingWithCopyWarning: \n",
            "A value is trying to be set on a copy of a slice from a DataFrame\n",
            "\n",
            "See the caveats in the documentation: https://pandas.pydata.org/pandas-docs/stable/user_guide/indexing.html#returning-a-view-versus-a-copy\n",
            "  method=method,\n"
          ]
        },
        {
          "output_type": "execute_result",
          "data": {
            "text/plain": [
              "     Salary_In_Rupees\n",
              "0            77446.90\n",
              "1              327.81\n",
              "2           105765.42\n",
              "3             1940.22\n",
              "4           145516.70\n",
              "..                ...\n",
              "602          14939.75\n",
              "603           1533.23\n",
              "604          15416.37\n",
              "605         145516.70\n",
              "606           1940.22\n",
              "\n",
              "[607 rows x 1 columns]"
            ],
            "text/html": [
              "\n",
              "  <div id=\"df-96906954-b183-46cf-9f8b-37d15edfad90\">\n",
              "    <div class=\"colab-df-container\">\n",
              "      <div>\n",
              "<style scoped>\n",
              "    .dataframe tbody tr th:only-of-type {\n",
              "        vertical-align: middle;\n",
              "    }\n",
              "\n",
              "    .dataframe tbody tr th {\n",
              "        vertical-align: top;\n",
              "    }\n",
              "\n",
              "    .dataframe thead th {\n",
              "        text-align: right;\n",
              "    }\n",
              "</style>\n",
              "<table border=\"1\" class=\"dataframe\">\n",
              "  <thead>\n",
              "    <tr style=\"text-align: right;\">\n",
              "      <th></th>\n",
              "      <th>Salary_In_Rupees</th>\n",
              "    </tr>\n",
              "  </thead>\n",
              "  <tbody>\n",
              "    <tr>\n",
              "      <th>0</th>\n",
              "      <td>77446.90</td>\n",
              "    </tr>\n",
              "    <tr>\n",
              "      <th>1</th>\n",
              "      <td>327.81</td>\n",
              "    </tr>\n",
              "    <tr>\n",
              "      <th>2</th>\n",
              "      <td>105765.42</td>\n",
              "    </tr>\n",
              "    <tr>\n",
              "      <th>3</th>\n",
              "      <td>1940.22</td>\n",
              "    </tr>\n",
              "    <tr>\n",
              "      <th>4</th>\n",
              "      <td>145516.70</td>\n",
              "    </tr>\n",
              "    <tr>\n",
              "      <th>...</th>\n",
              "      <td>...</td>\n",
              "    </tr>\n",
              "    <tr>\n",
              "      <th>602</th>\n",
              "      <td>14939.75</td>\n",
              "    </tr>\n",
              "    <tr>\n",
              "      <th>603</th>\n",
              "      <td>1533.23</td>\n",
              "    </tr>\n",
              "    <tr>\n",
              "      <th>604</th>\n",
              "      <td>15416.37</td>\n",
              "    </tr>\n",
              "    <tr>\n",
              "      <th>605</th>\n",
              "      <td>145516.70</td>\n",
              "    </tr>\n",
              "    <tr>\n",
              "      <th>606</th>\n",
              "      <td>1940.22</td>\n",
              "    </tr>\n",
              "  </tbody>\n",
              "</table>\n",
              "<p>607 rows × 1 columns</p>\n",
              "</div>\n",
              "      <button class=\"colab-df-convert\" onclick=\"convertToInteractive('df-96906954-b183-46cf-9f8b-37d15edfad90')\"\n",
              "              title=\"Convert this dataframe to an interactive table.\"\n",
              "              style=\"display:none;\">\n",
              "        \n",
              "  <svg xmlns=\"http://www.w3.org/2000/svg\" height=\"24px\"viewBox=\"0 0 24 24\"\n",
              "       width=\"24px\">\n",
              "    <path d=\"M0 0h24v24H0V0z\" fill=\"none\"/>\n",
              "    <path d=\"M18.56 5.44l.94 2.06.94-2.06 2.06-.94-2.06-.94-.94-2.06-.94 2.06-2.06.94zm-11 1L8.5 8.5l.94-2.06 2.06-.94-2.06-.94L8.5 2.5l-.94 2.06-2.06.94zm10 10l.94 2.06.94-2.06 2.06-.94-2.06-.94-.94-2.06-.94 2.06-2.06.94z\"/><path d=\"M17.41 7.96l-1.37-1.37c-.4-.4-.92-.59-1.43-.59-.52 0-1.04.2-1.43.59L10.3 9.45l-7.72 7.72c-.78.78-.78 2.05 0 2.83L4 21.41c.39.39.9.59 1.41.59.51 0 1.02-.2 1.41-.59l7.78-7.78 2.81-2.81c.8-.78.8-2.07 0-2.86zM5.41 20L4 18.59l7.72-7.72 1.47 1.35L5.41 20z\"/>\n",
              "  </svg>\n",
              "      </button>\n",
              "      \n",
              "  <style>\n",
              "    .colab-df-container {\n",
              "      display:flex;\n",
              "      flex-wrap:wrap;\n",
              "      gap: 12px;\n",
              "    }\n",
              "\n",
              "    .colab-df-convert {\n",
              "      background-color: #E8F0FE;\n",
              "      border: none;\n",
              "      border-radius: 50%;\n",
              "      cursor: pointer;\n",
              "      display: none;\n",
              "      fill: #1967D2;\n",
              "      height: 32px;\n",
              "      padding: 0 0 0 0;\n",
              "      width: 32px;\n",
              "    }\n",
              "\n",
              "    .colab-df-convert:hover {\n",
              "      background-color: #E2EBFA;\n",
              "      box-shadow: 0px 1px 2px rgba(60, 64, 67, 0.3), 0px 1px 3px 1px rgba(60, 64, 67, 0.15);\n",
              "      fill: #174EA6;\n",
              "    }\n",
              "\n",
              "    [theme=dark] .colab-df-convert {\n",
              "      background-color: #3B4455;\n",
              "      fill: #D2E3FC;\n",
              "    }\n",
              "\n",
              "    [theme=dark] .colab-df-convert:hover {\n",
              "      background-color: #434B5C;\n",
              "      box-shadow: 0px 1px 3px 1px rgba(0, 0, 0, 0.15);\n",
              "      filter: drop-shadow(0px 1px 2px rgba(0, 0, 0, 0.3));\n",
              "      fill: #FFFFFF;\n",
              "    }\n",
              "  </style>\n",
              "\n",
              "      <script>\n",
              "        const buttonEl =\n",
              "          document.querySelector('#df-96906954-b183-46cf-9f8b-37d15edfad90 button.colab-df-convert');\n",
              "        buttonEl.style.display =\n",
              "          google.colab.kernel.accessAllowed ? 'block' : 'none';\n",
              "\n",
              "        async function convertToInteractive(key) {\n",
              "          const element = document.querySelector('#df-96906954-b183-46cf-9f8b-37d15edfad90');\n",
              "          const dataTable =\n",
              "            await google.colab.kernel.invokeFunction('convertToInteractive',\n",
              "                                                     [key], {});\n",
              "          if (!dataTable) return;\n",
              "\n",
              "          const docLinkHtml = 'Like what you see? Visit the ' +\n",
              "            '<a target=\"_blank\" href=https://colab.research.google.com/notebooks/data_table.ipynb>data table notebook</a>'\n",
              "            + ' to learn more about interactive tables.';\n",
              "          element.innerHTML = '';\n",
              "          dataTable['output_type'] = 'display_data';\n",
              "          await google.colab.output.renderOutput(dataTable, element);\n",
              "          const docLink = document.createElement('div');\n",
              "          docLink.innerHTML = docLinkHtml;\n",
              "          element.appendChild(docLink);\n",
              "        }\n",
              "      </script>\n",
              "    </div>\n",
              "  </div>\n",
              "  "
            ]
          },
          "metadata": {},
          "execution_count": 116
        }
      ]
    },
    {
      "cell_type": "code",
      "source": [
        "# а вот год нам наоборот не нужно суммировать - переводим в объект/строку\n",
        "df[['Working_Year']] = df[['Working_Year']].astype(str)\n",
        "# проверяем типы данных после изменения\n",
        "df.dtypes"
      ],
      "metadata": {
        "colab": {
          "base_uri": "https://localhost:8080/"
        },
        "id": "SuYfURFXvE2W",
        "outputId": "b89560a6-80e8-4da7-fefa-5a950e64c859"
      },
      "execution_count": 117,
      "outputs": [
        {
          "output_type": "execute_result",
          "data": {
            "text/plain": [
              "Working_Year             object\n",
              "Designation              object\n",
              "Experience               object\n",
              "Employment_Status        object\n",
              "Salary_In_Rupees        float64\n",
              "Employee_Location        object\n",
              "Company_Location         object\n",
              "Company_Size             object\n",
              "Remote_Working_Ratio      int64\n",
              "dtype: object"
            ]
          },
          "metadata": {},
          "execution_count": 117
        }
      ]
    },
    {
      "cell_type": "markdown",
      "source": [
        "# Выбор данных\n",
        "\n",
        "В примере ниже показано распределение фонда оплаты труда в отрасли по профессиям, с указанием удельного веса в порядке убывания."
      ],
      "metadata": {
        "id": "OiJJuHwoCK7R"
      }
    },
    {
      "cell_type": "code",
      "source": [
        "# группировка и агрегация данных по направлениям - выводим сумму зар.плат по каждой рабочей роли\n",
        "\n",
        "d_data = df.groupby(['Designation']).sum()[['Salary_In_Rupees']]\n",
        "# добавляю удельный вес группы\n",
        "d_data['Salary_percent'] = d_data['Salary_In_Rupees']/df.Salary_In_Rupees.sum()*100\n",
        "# сортированный фрейм по убыванию\n",
        "sorted_df = d_data.sort_values(by='Salary_In_Rupees', ascending=False)\n",
        "  # собираю строку с итогами по ЗП\n",
        "new_row = pd.Series(data={'Salary_In_Rupees':df.Salary_In_Rupees.sum(),'Salary_percent':d_data.Salary_percent.sum()}, name='Итог')\n",
        "#добавим строку в dataframe \n",
        "sorted_df = sorted_df.append(new_row, ignore_index=False)\n",
        "sorted_df\n"
      ],
      "metadata": {
        "colab": {
          "base_uri": "https://localhost:8080/",
          "height": 1000
        },
        "id": "epoV-056lEu7",
        "outputId": "30970313-f7a6-407b-e33c-06754ad18805"
      },
      "execution_count": 118,
      "outputs": [
        {
          "output_type": "execute_result",
          "data": {
            "text/plain": [
              "                                          Salary_In_Rupees  Salary_percent\n",
              "Designation                                                               \n",
              "Data Engineer                                   7187312.32       22.877138\n",
              "Data Scientist                                  6273074.32       19.967128\n",
              "Data Analyst                                    4461750.36       14.201704\n",
              "Machine Learning Engineer                       1676279.51        5.335580\n",
              "Data Architect                                  1317578.40        4.193838\n",
              "Director of Data Science                         753907.14        2.399678\n",
              "Data Science Manager                             682676.03        2.172950\n",
              "Research Scientist                               655605.97        2.086787\n",
              "Principal Data Scientist                         589740.04        1.877136\n",
              "Analytics Engineer                               569349.95        1.812235\n",
              "Data Analytics Manager                           531562.82        1.691959\n",
              "Applied Machine Learning Scientist               518371.64        1.649971\n",
              "Lead Data Engineer                               459987.83        1.464136\n",
              "Data Science Consultant                          404585.42        1.287791\n",
              "ML Engineer                                      394298.38        1.255048\n",
              "Data Engineering Manager                         394024.65        1.254176\n",
              "Data Analytics Lead                              392895.10        1.250581\n",
              "Head of Data                                     363913.28        1.158332\n",
              "Head of Data Science                             348548.96        1.109428\n",
              "BI Data Analyst                                  347814.99        1.107091\n",
              "Machine Learning Scientist                       340226.70        1.082938\n",
              "Applied Data Scientist                           317427.43        1.010368\n",
              "Computer Vision Software Engineer                306308.77        0.974978\n",
              "Lead Data Analyst                                251223.96        0.799643\n",
              "Big Data Engineer                                247088.06        0.786479\n",
              "Principal Data Analyst                           237677.29        0.756524\n",
              "Data Analytics Engineer                          164859.31        0.524745\n",
              "Data Specialist                                  160068.38        0.509496\n",
              "AI Scientist                                     152258.02        0.484636\n",
              "Computer Vision Engineer                         143878.19        0.457963\n",
              "Machine Learning Infrastructure Engineer         124111.77        0.395046\n",
              "Business Data Analyst                            123384.85        0.392733\n",
              "Staff Data Scientist                             101861.70        0.324225\n",
              "Big Data Architect                                96723.01        0.307868\n",
              "Lead Data Scientist                               68951.28        0.219471\n",
              "Data Science Engineer                             58499.01        0.186202\n",
              "Financial Data Analyst                            53424.97        0.170051\n",
              "Principal Data Engineer                           25711.88        0.081841\n",
              "Machine Learning Developer                        24988.31        0.079538\n",
              "Cloud Data Engineer                               16394.47        0.052183\n",
              "Director of Data Engineering                      13269.38        0.042236\n",
              "Machine Learning Manager                          11360.47        0.036160\n",
              "ETL Developer                                     10662.90        0.033940\n",
              "Marketing Data Analyst                             9194.65        0.029266\n",
              "Lead Machine Learning Engineer                     8530.44        0.027152\n",
              "Product Data Analyst                               7830.74        0.024925\n",
              "Head of Machine Learning                           7668.69        0.024409\n",
              "Finance Data Analyst                               6004.97        0.019114\n",
              "NLP Engineer                                       3612.31        0.011498\n",
              "3D Computer Vision Researcher                       529.02        0.001684\n",
              "Итог                                           31417008.04      100.000000"
            ],
            "text/html": [
              "\n",
              "  <div id=\"df-da0ce4d5-e0bf-42c4-a3fc-5af9c249fda0\">\n",
              "    <div class=\"colab-df-container\">\n",
              "      <div>\n",
              "<style scoped>\n",
              "    .dataframe tbody tr th:only-of-type {\n",
              "        vertical-align: middle;\n",
              "    }\n",
              "\n",
              "    .dataframe tbody tr th {\n",
              "        vertical-align: top;\n",
              "    }\n",
              "\n",
              "    .dataframe thead th {\n",
              "        text-align: right;\n",
              "    }\n",
              "</style>\n",
              "<table border=\"1\" class=\"dataframe\">\n",
              "  <thead>\n",
              "    <tr style=\"text-align: right;\">\n",
              "      <th></th>\n",
              "      <th>Salary_In_Rupees</th>\n",
              "      <th>Salary_percent</th>\n",
              "    </tr>\n",
              "    <tr>\n",
              "      <th>Designation</th>\n",
              "      <th></th>\n",
              "      <th></th>\n",
              "    </tr>\n",
              "  </thead>\n",
              "  <tbody>\n",
              "    <tr>\n",
              "      <th>Data Engineer</th>\n",
              "      <td>7187312.32</td>\n",
              "      <td>22.877138</td>\n",
              "    </tr>\n",
              "    <tr>\n",
              "      <th>Data Scientist</th>\n",
              "      <td>6273074.32</td>\n",
              "      <td>19.967128</td>\n",
              "    </tr>\n",
              "    <tr>\n",
              "      <th>Data Analyst</th>\n",
              "      <td>4461750.36</td>\n",
              "      <td>14.201704</td>\n",
              "    </tr>\n",
              "    <tr>\n",
              "      <th>Machine Learning Engineer</th>\n",
              "      <td>1676279.51</td>\n",
              "      <td>5.335580</td>\n",
              "    </tr>\n",
              "    <tr>\n",
              "      <th>Data Architect</th>\n",
              "      <td>1317578.40</td>\n",
              "      <td>4.193838</td>\n",
              "    </tr>\n",
              "    <tr>\n",
              "      <th>Director of Data Science</th>\n",
              "      <td>753907.14</td>\n",
              "      <td>2.399678</td>\n",
              "    </tr>\n",
              "    <tr>\n",
              "      <th>Data Science Manager</th>\n",
              "      <td>682676.03</td>\n",
              "      <td>2.172950</td>\n",
              "    </tr>\n",
              "    <tr>\n",
              "      <th>Research Scientist</th>\n",
              "      <td>655605.97</td>\n",
              "      <td>2.086787</td>\n",
              "    </tr>\n",
              "    <tr>\n",
              "      <th>Principal Data Scientist</th>\n",
              "      <td>589740.04</td>\n",
              "      <td>1.877136</td>\n",
              "    </tr>\n",
              "    <tr>\n",
              "      <th>Analytics Engineer</th>\n",
              "      <td>569349.95</td>\n",
              "      <td>1.812235</td>\n",
              "    </tr>\n",
              "    <tr>\n",
              "      <th>Data Analytics Manager</th>\n",
              "      <td>531562.82</td>\n",
              "      <td>1.691959</td>\n",
              "    </tr>\n",
              "    <tr>\n",
              "      <th>Applied Machine Learning Scientist</th>\n",
              "      <td>518371.64</td>\n",
              "      <td>1.649971</td>\n",
              "    </tr>\n",
              "    <tr>\n",
              "      <th>Lead Data Engineer</th>\n",
              "      <td>459987.83</td>\n",
              "      <td>1.464136</td>\n",
              "    </tr>\n",
              "    <tr>\n",
              "      <th>Data Science Consultant</th>\n",
              "      <td>404585.42</td>\n",
              "      <td>1.287791</td>\n",
              "    </tr>\n",
              "    <tr>\n",
              "      <th>ML Engineer</th>\n",
              "      <td>394298.38</td>\n",
              "      <td>1.255048</td>\n",
              "    </tr>\n",
              "    <tr>\n",
              "      <th>Data Engineering Manager</th>\n",
              "      <td>394024.65</td>\n",
              "      <td>1.254176</td>\n",
              "    </tr>\n",
              "    <tr>\n",
              "      <th>Data Analytics Lead</th>\n",
              "      <td>392895.10</td>\n",
              "      <td>1.250581</td>\n",
              "    </tr>\n",
              "    <tr>\n",
              "      <th>Head of Data</th>\n",
              "      <td>363913.28</td>\n",
              "      <td>1.158332</td>\n",
              "    </tr>\n",
              "    <tr>\n",
              "      <th>Head of Data Science</th>\n",
              "      <td>348548.96</td>\n",
              "      <td>1.109428</td>\n",
              "    </tr>\n",
              "    <tr>\n",
              "      <th>BI Data Analyst</th>\n",
              "      <td>347814.99</td>\n",
              "      <td>1.107091</td>\n",
              "    </tr>\n",
              "    <tr>\n",
              "      <th>Machine Learning Scientist</th>\n",
              "      <td>340226.70</td>\n",
              "      <td>1.082938</td>\n",
              "    </tr>\n",
              "    <tr>\n",
              "      <th>Applied Data Scientist</th>\n",
              "      <td>317427.43</td>\n",
              "      <td>1.010368</td>\n",
              "    </tr>\n",
              "    <tr>\n",
              "      <th>Computer Vision Software Engineer</th>\n",
              "      <td>306308.77</td>\n",
              "      <td>0.974978</td>\n",
              "    </tr>\n",
              "    <tr>\n",
              "      <th>Lead Data Analyst</th>\n",
              "      <td>251223.96</td>\n",
              "      <td>0.799643</td>\n",
              "    </tr>\n",
              "    <tr>\n",
              "      <th>Big Data Engineer</th>\n",
              "      <td>247088.06</td>\n",
              "      <td>0.786479</td>\n",
              "    </tr>\n",
              "    <tr>\n",
              "      <th>Principal Data Analyst</th>\n",
              "      <td>237677.29</td>\n",
              "      <td>0.756524</td>\n",
              "    </tr>\n",
              "    <tr>\n",
              "      <th>Data Analytics Engineer</th>\n",
              "      <td>164859.31</td>\n",
              "      <td>0.524745</td>\n",
              "    </tr>\n",
              "    <tr>\n",
              "      <th>Data Specialist</th>\n",
              "      <td>160068.38</td>\n",
              "      <td>0.509496</td>\n",
              "    </tr>\n",
              "    <tr>\n",
              "      <th>AI Scientist</th>\n",
              "      <td>152258.02</td>\n",
              "      <td>0.484636</td>\n",
              "    </tr>\n",
              "    <tr>\n",
              "      <th>Computer Vision Engineer</th>\n",
              "      <td>143878.19</td>\n",
              "      <td>0.457963</td>\n",
              "    </tr>\n",
              "    <tr>\n",
              "      <th>Machine Learning Infrastructure Engineer</th>\n",
              "      <td>124111.77</td>\n",
              "      <td>0.395046</td>\n",
              "    </tr>\n",
              "    <tr>\n",
              "      <th>Business Data Analyst</th>\n",
              "      <td>123384.85</td>\n",
              "      <td>0.392733</td>\n",
              "    </tr>\n",
              "    <tr>\n",
              "      <th>Staff Data Scientist</th>\n",
              "      <td>101861.70</td>\n",
              "      <td>0.324225</td>\n",
              "    </tr>\n",
              "    <tr>\n",
              "      <th>Big Data Architect</th>\n",
              "      <td>96723.01</td>\n",
              "      <td>0.307868</td>\n",
              "    </tr>\n",
              "    <tr>\n",
              "      <th>Lead Data Scientist</th>\n",
              "      <td>68951.28</td>\n",
              "      <td>0.219471</td>\n",
              "    </tr>\n",
              "    <tr>\n",
              "      <th>Data Science Engineer</th>\n",
              "      <td>58499.01</td>\n",
              "      <td>0.186202</td>\n",
              "    </tr>\n",
              "    <tr>\n",
              "      <th>Financial Data Analyst</th>\n",
              "      <td>53424.97</td>\n",
              "      <td>0.170051</td>\n",
              "    </tr>\n",
              "    <tr>\n",
              "      <th>Principal Data Engineer</th>\n",
              "      <td>25711.88</td>\n",
              "      <td>0.081841</td>\n",
              "    </tr>\n",
              "    <tr>\n",
              "      <th>Machine Learning Developer</th>\n",
              "      <td>24988.31</td>\n",
              "      <td>0.079538</td>\n",
              "    </tr>\n",
              "    <tr>\n",
              "      <th>Cloud Data Engineer</th>\n",
              "      <td>16394.47</td>\n",
              "      <td>0.052183</td>\n",
              "    </tr>\n",
              "    <tr>\n",
              "      <th>Director of Data Engineering</th>\n",
              "      <td>13269.38</td>\n",
              "      <td>0.042236</td>\n",
              "    </tr>\n",
              "    <tr>\n",
              "      <th>Machine Learning Manager</th>\n",
              "      <td>11360.47</td>\n",
              "      <td>0.036160</td>\n",
              "    </tr>\n",
              "    <tr>\n",
              "      <th>ETL Developer</th>\n",
              "      <td>10662.90</td>\n",
              "      <td>0.033940</td>\n",
              "    </tr>\n",
              "    <tr>\n",
              "      <th>Marketing Data Analyst</th>\n",
              "      <td>9194.65</td>\n",
              "      <td>0.029266</td>\n",
              "    </tr>\n",
              "    <tr>\n",
              "      <th>Lead Machine Learning Engineer</th>\n",
              "      <td>8530.44</td>\n",
              "      <td>0.027152</td>\n",
              "    </tr>\n",
              "    <tr>\n",
              "      <th>Product Data Analyst</th>\n",
              "      <td>7830.74</td>\n",
              "      <td>0.024925</td>\n",
              "    </tr>\n",
              "    <tr>\n",
              "      <th>Head of Machine Learning</th>\n",
              "      <td>7668.69</td>\n",
              "      <td>0.024409</td>\n",
              "    </tr>\n",
              "    <tr>\n",
              "      <th>Finance Data Analyst</th>\n",
              "      <td>6004.97</td>\n",
              "      <td>0.019114</td>\n",
              "    </tr>\n",
              "    <tr>\n",
              "      <th>NLP Engineer</th>\n",
              "      <td>3612.31</td>\n",
              "      <td>0.011498</td>\n",
              "    </tr>\n",
              "    <tr>\n",
              "      <th>3D Computer Vision Researcher</th>\n",
              "      <td>529.02</td>\n",
              "      <td>0.001684</td>\n",
              "    </tr>\n",
              "    <tr>\n",
              "      <th>Итог</th>\n",
              "      <td>31417008.04</td>\n",
              "      <td>100.000000</td>\n",
              "    </tr>\n",
              "  </tbody>\n",
              "</table>\n",
              "</div>\n",
              "      <button class=\"colab-df-convert\" onclick=\"convertToInteractive('df-da0ce4d5-e0bf-42c4-a3fc-5af9c249fda0')\"\n",
              "              title=\"Convert this dataframe to an interactive table.\"\n",
              "              style=\"display:none;\">\n",
              "        \n",
              "  <svg xmlns=\"http://www.w3.org/2000/svg\" height=\"24px\"viewBox=\"0 0 24 24\"\n",
              "       width=\"24px\">\n",
              "    <path d=\"M0 0h24v24H0V0z\" fill=\"none\"/>\n",
              "    <path d=\"M18.56 5.44l.94 2.06.94-2.06 2.06-.94-2.06-.94-.94-2.06-.94 2.06-2.06.94zm-11 1L8.5 8.5l.94-2.06 2.06-.94-2.06-.94L8.5 2.5l-.94 2.06-2.06.94zm10 10l.94 2.06.94-2.06 2.06-.94-2.06-.94-.94-2.06-.94 2.06-2.06.94z\"/><path d=\"M17.41 7.96l-1.37-1.37c-.4-.4-.92-.59-1.43-.59-.52 0-1.04.2-1.43.59L10.3 9.45l-7.72 7.72c-.78.78-.78 2.05 0 2.83L4 21.41c.39.39.9.59 1.41.59.51 0 1.02-.2 1.41-.59l7.78-7.78 2.81-2.81c.8-.78.8-2.07 0-2.86zM5.41 20L4 18.59l7.72-7.72 1.47 1.35L5.41 20z\"/>\n",
              "  </svg>\n",
              "      </button>\n",
              "      \n",
              "  <style>\n",
              "    .colab-df-container {\n",
              "      display:flex;\n",
              "      flex-wrap:wrap;\n",
              "      gap: 12px;\n",
              "    }\n",
              "\n",
              "    .colab-df-convert {\n",
              "      background-color: #E8F0FE;\n",
              "      border: none;\n",
              "      border-radius: 50%;\n",
              "      cursor: pointer;\n",
              "      display: none;\n",
              "      fill: #1967D2;\n",
              "      height: 32px;\n",
              "      padding: 0 0 0 0;\n",
              "      width: 32px;\n",
              "    }\n",
              "\n",
              "    .colab-df-convert:hover {\n",
              "      background-color: #E2EBFA;\n",
              "      box-shadow: 0px 1px 2px rgba(60, 64, 67, 0.3), 0px 1px 3px 1px rgba(60, 64, 67, 0.15);\n",
              "      fill: #174EA6;\n",
              "    }\n",
              "\n",
              "    [theme=dark] .colab-df-convert {\n",
              "      background-color: #3B4455;\n",
              "      fill: #D2E3FC;\n",
              "    }\n",
              "\n",
              "    [theme=dark] .colab-df-convert:hover {\n",
              "      background-color: #434B5C;\n",
              "      box-shadow: 0px 1px 3px 1px rgba(0, 0, 0, 0.15);\n",
              "      filter: drop-shadow(0px 1px 2px rgba(0, 0, 0, 0.3));\n",
              "      fill: #FFFFFF;\n",
              "    }\n",
              "  </style>\n",
              "\n",
              "      <script>\n",
              "        const buttonEl =\n",
              "          document.querySelector('#df-da0ce4d5-e0bf-42c4-a3fc-5af9c249fda0 button.colab-df-convert');\n",
              "        buttonEl.style.display =\n",
              "          google.colab.kernel.accessAllowed ? 'block' : 'none';\n",
              "\n",
              "        async function convertToInteractive(key) {\n",
              "          const element = document.querySelector('#df-da0ce4d5-e0bf-42c4-a3fc-5af9c249fda0');\n",
              "          const dataTable =\n",
              "            await google.colab.kernel.invokeFunction('convertToInteractive',\n",
              "                                                     [key], {});\n",
              "          if (!dataTable) return;\n",
              "\n",
              "          const docLinkHtml = 'Like what you see? Visit the ' +\n",
              "            '<a target=\"_blank\" href=https://colab.research.google.com/notebooks/data_table.ipynb>data table notebook</a>'\n",
              "            + ' to learn more about interactive tables.';\n",
              "          element.innerHTML = '';\n",
              "          dataTable['output_type'] = 'display_data';\n",
              "          await google.colab.output.renderOutput(dataTable, element);\n",
              "          const docLink = document.createElement('div');\n",
              "          docLink.innerHTML = docLinkHtml;\n",
              "          element.appendChild(docLink);\n",
              "        }\n",
              "      </script>\n",
              "    </div>\n",
              "  </div>\n",
              "  "
            ]
          },
          "metadata": {},
          "execution_count": 118
        }
      ]
    },
    {
      "cell_type": "markdown",
      "source": [
        "Посмотрим плотность распределения на графиках"
      ],
      "metadata": {
        "id": "ZIPK-UuKYvyz"
      }
    },
    {
      "cell_type": "code",
      "source": [
        "# формируем гистограмму\n",
        "df.hist(column='Salary_In_Rupees', bins=40, density=True)\n"
      ],
      "metadata": {
        "id": "qMp3ZlsBZEhn",
        "colab": {
          "base_uri": "https://localhost:8080/",
          "height": 316
        },
        "outputId": "50d36f2c-d284-4317-a48a-1e0dad8ea815"
      },
      "execution_count": 119,
      "outputs": [
        {
          "output_type": "execute_result",
          "data": {
            "text/plain": [
              "array([[<matplotlib.axes._subplots.AxesSubplot object at 0x7f0497ccf890>]],\n",
              "      dtype=object)"
            ]
          },
          "metadata": {},
          "execution_count": 119
        },
        {
          "output_type": "display_data",
          "data": {
            "text/plain": [
              "<Figure size 432x288 with 1 Axes>"
            ],
            "image/png": "[encoded data removed]"
          },
          "metadata": {
            "needs_background": "light"
          }
        }
      ]
    },
    {
      "cell_type": "code",
      "source": [
        "# Коробочный график\n",
        "d_data.boxplot(column='Salary_percent')\n"
      ],
      "metadata": {
        "id": "WM9A10nVb5Aq",
        "colab": {
          "base_uri": "https://localhost:8080/",
          "height": 283
        },
        "outputId": "95c2a51b-2b98-4aaa-860c-7dbb298fd6b7"
      },
      "execution_count": 121,
      "outputs": [
        {
          "output_type": "execute_result",
          "data": {
            "text/plain": [
              "<matplotlib.axes._subplots.AxesSubplot at 0x7f0497ba2990>"
            ]
          },
          "metadata": {},
          "execution_count": 121
        },
        {
          "output_type": "display_data",
          "data": {
            "text/plain": [
              "<Figure size 432x288 with 1 Axes>"
            ],
            "image/png": "[encoded data removed]"
          },
          "metadata": {
            "needs_background": "light"
          }
        }
      ]
    },
    {
      "cell_type": "code",
      "source": [
        "# проверим итог по суммам ЗП, а также др. показатели\n",
        "# Максимальное значение\n",
        "print(df['Salary_In_Rupees'].max())\n",
        "# Минимальное значение\n",
        "print(df['Salary_In_Rupees'].min())\n",
        "# Среднее значение\n",
        "print(df['Salary_In_Rupees'].mean())\n",
        "# Сумма\n",
        "print(df['Salary_In_Rupees'].sum())"
      ],
      "metadata": {
        "colab": {
          "base_uri": "https://localhost:8080/"
        },
        "id": "35hvmAndL9gl",
        "outputId": "c21fbd45-6c2c-4c29-a141-92d0c1aa1fec"
      },
      "execution_count": 122,
      "outputs": [
        {
          "output_type": "stream",
          "name": "stdout",
          "text": [
            "410357.1\n",
            "46.05\n",
            "51757.83861614498\n",
            "31417008.040000003\n"
          ]
        }
      ]
    },
    {
      "cell_type": "markdown",
      "source": [
        "Смотрим общую картину"
      ],
      "metadata": {
        "id": "u059NTA3NeiG"
      }
    },
    {
      "cell_type": "code",
      "source": [
        "# вычисляет различные сводные статистические данные\n",
        "df.describe()"
      ],
      "metadata": {
        "colab": {
          "base_uri": "https://localhost:8080/",
          "height": 300
        },
        "id": "gFsG0sq6NO97",
        "outputId": "da10fa09-229a-453c-8437-285ce2ef9800"
      },
      "execution_count": 123,
      "outputs": [
        {
          "output_type": "execute_result",
          "data": {
            "text/plain": [
              "       Salary_In_Rupees  Remote_Working_Ratio\n",
              "count        607.000000             607.00000\n",
              "mean       51757.838616              70.92257\n",
              "std        64255.311200              40.70913\n",
              "min           46.050000               0.00000\n",
              "25%         7464.880000              50.00000\n",
              "50%        17890.800000             100.00000\n",
              "75%        87310.020000             100.00000\n",
              "max       410357.100000             100.00000"
            ],
            "text/html": [
              "\n",
              "  <div id=\"df-3eb45179-0660-4bf2-afd5-3501c7ac7e83\">\n",
              "    <div class=\"colab-df-container\">\n",
              "      <div>\n",
              "<style scoped>\n",
              "    .dataframe tbody tr th:only-of-type {\n",
              "        vertical-align: middle;\n",
              "    }\n",
              "\n",
              "    .dataframe tbody tr th {\n",
              "        vertical-align: top;\n",
              "    }\n",
              "\n",
              "    .dataframe thead th {\n",
              "        text-align: right;\n",
              "    }\n",
              "</style>\n",
              "<table border=\"1\" class=\"dataframe\">\n",
              "  <thead>\n",
              "    <tr style=\"text-align: right;\">\n",
              "      <th></th>\n",
              "      <th>Salary_In_Rupees</th>\n",
              "      <th>Remote_Working_Ratio</th>\n",
              "    </tr>\n",
              "  </thead>\n",
              "  <tbody>\n",
              "    <tr>\n",
              "      <th>count</th>\n",
              "      <td>607.000000</td>\n",
              "      <td>607.00000</td>\n",
              "    </tr>\n",
              "    <tr>\n",
              "      <th>mean</th>\n",
              "      <td>51757.838616</td>\n",
              "      <td>70.92257</td>\n",
              "    </tr>\n",
              "    <tr>\n",
              "      <th>std</th>\n",
              "      <td>64255.311200</td>\n",
              "      <td>40.70913</td>\n",
              "    </tr>\n",
              "    <tr>\n",
              "      <th>min</th>\n",
              "      <td>46.050000</td>\n",
              "      <td>0.00000</td>\n",
              "    </tr>\n",
              "    <tr>\n",
              "      <th>25%</th>\n",
              "      <td>7464.880000</td>\n",
              "      <td>50.00000</td>\n",
              "    </tr>\n",
              "    <tr>\n",
              "      <th>50%</th>\n",
              "      <td>17890.800000</td>\n",
              "      <td>100.00000</td>\n",
              "    </tr>\n",
              "    <tr>\n",
              "      <th>75%</th>\n",
              "      <td>87310.020000</td>\n",
              "      <td>100.00000</td>\n",
              "    </tr>\n",
              "    <tr>\n",
              "      <th>max</th>\n",
              "      <td>410357.100000</td>\n",
              "      <td>100.00000</td>\n",
              "    </tr>\n",
              "  </tbody>\n",
              "</table>\n",
              "</div>\n",
              "      <button class=\"colab-df-convert\" onclick=\"convertToInteractive('df-3eb45179-0660-4bf2-afd5-3501c7ac7e83')\"\n",
              "              title=\"Convert this dataframe to an interactive table.\"\n",
              "              style=\"display:none;\">\n",
              "        \n",
              "  <svg xmlns=\"http://www.w3.org/2000/svg\" height=\"24px\"viewBox=\"0 0 24 24\"\n",
              "       width=\"24px\">\n",
              "    <path d=\"M0 0h24v24H0V0z\" fill=\"none\"/>\n",
              "    <path d=\"M18.56 5.44l.94 2.06.94-2.06 2.06-.94-2.06-.94-.94-2.06-.94 2.06-2.06.94zm-11 1L8.5 8.5l.94-2.06 2.06-.94-2.06-.94L8.5 2.5l-.94 2.06-2.06.94zm10 10l.94 2.06.94-2.06 2.06-.94-2.06-.94-.94-2.06-.94 2.06-2.06.94z\"/><path d=\"M17.41 7.96l-1.37-1.37c-.4-.4-.92-.59-1.43-.59-.52 0-1.04.2-1.43.59L10.3 9.45l-7.72 7.72c-.78.78-.78 2.05 0 2.83L4 21.41c.39.39.9.59 1.41.59.51 0 1.02-.2 1.41-.59l7.78-7.78 2.81-2.81c.8-.78.8-2.07 0-2.86zM5.41 20L4 18.59l7.72-7.72 1.47 1.35L5.41 20z\"/>\n",
              "  </svg>\n",
              "      </button>\n",
              "      \n",
              "  <style>\n",
              "    .colab-df-container {\n",
              "      display:flex;\n",
              "      flex-wrap:wrap;\n",
              "      gap: 12px;\n",
              "    }\n",
              "\n",
              "    .colab-df-convert {\n",
              "      background-color: #E8F0FE;\n",
              "      border: none;\n",
              "      border-radius: 50%;\n",
              "      cursor: pointer;\n",
              "      display: none;\n",
              "      fill: #1967D2;\n",
              "      height: 32px;\n",
              "      padding: 0 0 0 0;\n",
              "      width: 32px;\n",
              "    }\n",
              "\n",
              "    .colab-df-convert:hover {\n",
              "      background-color: #E2EBFA;\n",
              "      box-shadow: 0px 1px 2px rgba(60, 64, 67, 0.3), 0px 1px 3px 1px rgba(60, 64, 67, 0.15);\n",
              "      fill: #174EA6;\n",
              "    }\n",
              "\n",
              "    [theme=dark] .colab-df-convert {\n",
              "      background-color: #3B4455;\n",
              "      fill: #D2E3FC;\n",
              "    }\n",
              "\n",
              "    [theme=dark] .colab-df-convert:hover {\n",
              "      background-color: #434B5C;\n",
              "      box-shadow: 0px 1px 3px 1px rgba(0, 0, 0, 0.15);\n",
              "      filter: drop-shadow(0px 1px 2px rgba(0, 0, 0, 0.3));\n",
              "      fill: #FFFFFF;\n",
              "    }\n",
              "  </style>\n",
              "\n",
              "      <script>\n",
              "        const buttonEl =\n",
              "          document.querySelector('#df-3eb45179-0660-4bf2-afd5-3501c7ac7e83 button.colab-df-convert');\n",
              "        buttonEl.style.display =\n",
              "          google.colab.kernel.accessAllowed ? 'block' : 'none';\n",
              "\n",
              "        async function convertToInteractive(key) {\n",
              "          const element = document.querySelector('#df-3eb45179-0660-4bf2-afd5-3501c7ac7e83');\n",
              "          const dataTable =\n",
              "            await google.colab.kernel.invokeFunction('convertToInteractive',\n",
              "                                                     [key], {});\n",
              "          if (!dataTable) return;\n",
              "\n",
              "          const docLinkHtml = 'Like what you see? Visit the ' +\n",
              "            '<a target=\"_blank\" href=https://colab.research.google.com/notebooks/data_table.ipynb>data table notebook</a>'\n",
              "            + ' to learn more about interactive tables.';\n",
              "          element.innerHTML = '';\n",
              "          dataTable['output_type'] = 'display_data';\n",
              "          await google.colab.output.renderOutput(dataTable, element);\n",
              "          const docLink = document.createElement('div');\n",
              "          docLink.innerHTML = docLinkHtml;\n",
              "          element.appendChild(docLink);\n",
              "        }\n",
              "      </script>\n",
              "    </div>\n",
              "  </div>\n",
              "  "
            ]
          },
          "metadata": {},
          "execution_count": 123
        }
      ]
    },
    {
      "cell_type": "code",
      "source": [
        "# выводим средний общий объем выплаченной зар.платы и средний удельный вес удаленной работы в разрезе рабочих лет и квалификации специалистов\n",
        "df.groupby(['Working_Year', 'Experience']).mean()\n"
      ],
      "metadata": {
        "colab": {
          "base_uri": "https://localhost:8080/",
          "height": 457
        },
        "id": "HaQPcrwxXhP2",
        "outputId": "6b75cdaf-b4f4-48a9-ac3d-22fbd369c6d2"
      },
      "execution_count": 124,
      "outputs": [
        {
          "output_type": "execute_result",
          "data": {
            "text/plain": [
              "                         Salary_In_Rupees  Remote_Working_Ratio\n",
              "Working_Year Experience                                        \n",
              "2020         EN              33321.421500             65.000000\n",
              "             EX              40300.410000             75.000000\n",
              "             MI              38103.088750             62.500000\n",
              "             SE              71507.226111             66.666667\n",
              "2021         EN              29012.335106             70.212766\n",
              "             EX              78017.169091             63.636364\n",
              "             MI              46588.964000             67.222222\n",
              "             SE              56341.947681             71.739130\n",
              "2022         EN              38072.985714             73.809524\n",
              "             EX              78532.533846             92.307692\n",
              "             MI              39309.279451             60.989011\n",
              "             SE              64578.134974             78.238342"
            ],
            "text/html": [
              "\n",
              "  <div id=\"df-5abe4108-9e42-4893-880c-22f0e9f842d6\">\n",
              "    <div class=\"colab-df-container\">\n",
              "      <div>\n",
              "<style scoped>\n",
              "    .dataframe tbody tr th:only-of-type {\n",
              "        vertical-align: middle;\n",
              "    }\n",
              "\n",
              "    .dataframe tbody tr th {\n",
              "        vertical-align: top;\n",
              "    }\n",
              "\n",
              "    .dataframe thead th {\n",
              "        text-align: right;\n",
              "    }\n",
              "</style>\n",
              "<table border=\"1\" class=\"dataframe\">\n",
              "  <thead>\n",
              "    <tr style=\"text-align: right;\">\n",
              "      <th></th>\n",
              "      <th></th>\n",
              "      <th>Salary_In_Rupees</th>\n",
              "      <th>Remote_Working_Ratio</th>\n",
              "    </tr>\n",
              "    <tr>\n",
              "      <th>Working_Year</th>\n",
              "      <th>Experience</th>\n",
              "      <th></th>\n",
              "      <th></th>\n",
              "    </tr>\n",
              "  </thead>\n",
              "  <tbody>\n",
              "    <tr>\n",
              "      <th rowspan=\"4\" valign=\"top\">2020</th>\n",
              "      <th>EN</th>\n",
              "      <td>33321.421500</td>\n",
              "      <td>65.000000</td>\n",
              "    </tr>\n",
              "    <tr>\n",
              "      <th>EX</th>\n",
              "      <td>40300.410000</td>\n",
              "      <td>75.000000</td>\n",
              "    </tr>\n",
              "    <tr>\n",
              "      <th>MI</th>\n",
              "      <td>38103.088750</td>\n",
              "      <td>62.500000</td>\n",
              "    </tr>\n",
              "    <tr>\n",
              "      <th>SE</th>\n",
              "      <td>71507.226111</td>\n",
              "      <td>66.666667</td>\n",
              "    </tr>\n",
              "    <tr>\n",
              "      <th rowspan=\"4\" valign=\"top\">2021</th>\n",
              "      <th>EN</th>\n",
              "      <td>29012.335106</td>\n",
              "      <td>70.212766</td>\n",
              "    </tr>\n",
              "    <tr>\n",
              "      <th>EX</th>\n",
              "      <td>78017.169091</td>\n",
              "      <td>63.636364</td>\n",
              "    </tr>\n",
              "    <tr>\n",
              "      <th>MI</th>\n",
              "      <td>46588.964000</td>\n",
              "      <td>67.222222</td>\n",
              "    </tr>\n",
              "    <tr>\n",
              "      <th>SE</th>\n",
              "      <td>56341.947681</td>\n",
              "      <td>71.739130</td>\n",
              "    </tr>\n",
              "    <tr>\n",
              "      <th rowspan=\"4\" valign=\"top\">2022</th>\n",
              "      <th>EN</th>\n",
              "      <td>38072.985714</td>\n",
              "      <td>73.809524</td>\n",
              "    </tr>\n",
              "    <tr>\n",
              "      <th>EX</th>\n",
              "      <td>78532.533846</td>\n",
              "      <td>92.307692</td>\n",
              "    </tr>\n",
              "    <tr>\n",
              "      <th>MI</th>\n",
              "      <td>39309.279451</td>\n",
              "      <td>60.989011</td>\n",
              "    </tr>\n",
              "    <tr>\n",
              "      <th>SE</th>\n",
              "      <td>64578.134974</td>\n",
              "      <td>78.238342</td>\n",
              "    </tr>\n",
              "  </tbody>\n",
              "</table>\n",
              "</div>\n",
              "      <button class=\"colab-df-convert\" onclick=\"convertToInteractive('df-5abe4108-9e42-4893-880c-22f0e9f842d6')\"\n",
              "              title=\"Convert this dataframe to an interactive table.\"\n",
              "              style=\"display:none;\">\n",
              "        \n",
              "  <svg xmlns=\"http://www.w3.org/2000/svg\" height=\"24px\"viewBox=\"0 0 24 24\"\n",
              "       width=\"24px\">\n",
              "    <path d=\"M0 0h24v24H0V0z\" fill=\"none\"/>\n",
              "    <path d=\"M18.56 5.44l.94 2.06.94-2.06 2.06-.94-2.06-.94-.94-2.06-.94 2.06-2.06.94zm-11 1L8.5 8.5l.94-2.06 2.06-.94-2.06-.94L8.5 2.5l-.94 2.06-2.06.94zm10 10l.94 2.06.94-2.06 2.06-.94-2.06-.94-.94-2.06-.94 2.06-2.06.94z\"/><path d=\"M17.41 7.96l-1.37-1.37c-.4-.4-.92-.59-1.43-.59-.52 0-1.04.2-1.43.59L10.3 9.45l-7.72 7.72c-.78.78-.78 2.05 0 2.83L4 21.41c.39.39.9.59 1.41.59.51 0 1.02-.2 1.41-.59l7.78-7.78 2.81-2.81c.8-.78.8-2.07 0-2.86zM5.41 20L4 18.59l7.72-7.72 1.47 1.35L5.41 20z\"/>\n",
              "  </svg>\n",
              "      </button>\n",
              "      \n",
              "  <style>\n",
              "    .colab-df-container {\n",
              "      display:flex;\n",
              "      flex-wrap:wrap;\n",
              "      gap: 12px;\n",
              "    }\n",
              "\n",
              "    .colab-df-convert {\n",
              "      background-color: #E8F0FE;\n",
              "      border: none;\n",
              "      border-radius: 50%;\n",
              "      cursor: pointer;\n",
              "      display: none;\n",
              "      fill: #1967D2;\n",
              "      height: 32px;\n",
              "      padding: 0 0 0 0;\n",
              "      width: 32px;\n",
              "    }\n",
              "\n",
              "    .colab-df-convert:hover {\n",
              "      background-color: #E2EBFA;\n",
              "      box-shadow: 0px 1px 2px rgba(60, 64, 67, 0.3), 0px 1px 3px 1px rgba(60, 64, 67, 0.15);\n",
              "      fill: #174EA6;\n",
              "    }\n",
              "\n",
              "    [theme=dark] .colab-df-convert {\n",
              "      background-color: #3B4455;\n",
              "      fill: #D2E3FC;\n",
              "    }\n",
              "\n",
              "    [theme=dark] .colab-df-convert:hover {\n",
              "      background-color: #434B5C;\n",
              "      box-shadow: 0px 1px 3px 1px rgba(0, 0, 0, 0.15);\n",
              "      filter: drop-shadow(0px 1px 2px rgba(0, 0, 0, 0.3));\n",
              "      fill: #FFFFFF;\n",
              "    }\n",
              "  </style>\n",
              "\n",
              "      <script>\n",
              "        const buttonEl =\n",
              "          document.querySelector('#df-5abe4108-9e42-4893-880c-22f0e9f842d6 button.colab-df-convert');\n",
              "        buttonEl.style.display =\n",
              "          google.colab.kernel.accessAllowed ? 'block' : 'none';\n",
              "\n",
              "        async function convertToInteractive(key) {\n",
              "          const element = document.querySelector('#df-5abe4108-9e42-4893-880c-22f0e9f842d6');\n",
              "          const dataTable =\n",
              "            await google.colab.kernel.invokeFunction('convertToInteractive',\n",
              "                                                     [key], {});\n",
              "          if (!dataTable) return;\n",
              "\n",
              "          const docLinkHtml = 'Like what you see? Visit the ' +\n",
              "            '<a target=\"_blank\" href=https://colab.research.google.com/notebooks/data_table.ipynb>data table notebook</a>'\n",
              "            + ' to learn more about interactive tables.';\n",
              "          element.innerHTML = '';\n",
              "          dataTable['output_type'] = 'display_data';\n",
              "          await google.colab.output.renderOutput(dataTable, element);\n",
              "          const docLink = document.createElement('div');\n",
              "          docLink.innerHTML = docLinkHtml;\n",
              "          element.appendChild(docLink);\n",
              "        }\n",
              "      </script>\n",
              "    </div>\n",
              "  </div>\n",
              "  "
            ]
          },
          "metadata": {},
          "execution_count": 124
        }
      ]
    },
    {
      "cell_type": "code",
      "source": [
        "# точечный график, показывающий средний общий объем выплаченной ЗП при усредненной разной степени удаленной занятости\n",
        "# в разрезе рабочих лет и опыта специалиста\n",
        "d = df.groupby(['Working_Year', 'Experience']).mean()\n",
        "sns.scatterplot(data=d, x=\"Remote_Working_Ratio\", y=\"Salary_In_Rupees\",hue=\"Working_Year\",size = 'Experience')"
      ],
      "metadata": {
        "colab": {
          "base_uri": "https://localhost:8080/",
          "height": 297
        },
        "id": "yRyP0n27eR47",
        "outputId": "ae9d31cf-7e16-4848-d33d-cc36d6d20eb6"
      },
      "execution_count": 125,
      "outputs": [
        {
          "output_type": "execute_result",
          "data": {
            "text/plain": [
              "<matplotlib.axes._subplots.AxesSubplot at 0x7f0497b14bd0>"
            ]
          },
          "metadata": {},
          "execution_count": 125
        },
        {
          "output_type": "display_data",
          "data": {
            "text/plain": [
              "<Figure size 432x288 with 1 Axes>"
            ],
            "image/png": "[encoded data removed]"
          },
          "metadata": {
            "needs_background": "light"
          }
        }
      ]
    },
    {
      "cell_type": "markdown",
      "source": [
        "Так как в датасете мало числовых значений, точечный график строить особо не на чем - если только показать связь усредненного удельного веса удаленной работы и средний объем выплаченной ЗП, в данном примере в разрезе опыта специалиста (в этом случае, мало информативен, на мой взгляд).\n",
        "\n",
        "Построим линейный график, где для каждого рабочего года будем показывать средний объем выплаченной ЗП.\n"
      ],
      "metadata": {
        "id": "r5EWn4DEfVz_"
      }
    },
    {
      "cell_type": "code",
      "source": [
        "# линейный график\n",
        "d = df.groupby('Working_Year').mean()['Salary_In_Rupees']\n",
        "d.plot(table=True)"
      ],
      "metadata": {
        "colab": {
          "base_uri": "https://localhost:8080/",
          "height": 297
        },
        "id": "dc_PEoxvk3NL",
        "outputId": "64767f97-03ba-4344-ec89-eeb55865589b"
      },
      "execution_count": 126,
      "outputs": [
        {
          "output_type": "execute_result",
          "data": {
            "text/plain": [
              "<matplotlib.axes._subplots.AxesSubplot at 0x7f0497c0e8d0>"
            ]
          },
          "metadata": {},
          "execution_count": 126
        },
        {
          "output_type": "display_data",
          "data": {
            "text/plain": [
              "<Figure size 432x288 with 1 Axes>"
            ],
            "image/png": "[encoded data removed]"
          },
          "metadata": {
            "needs_background": "light"
          }
        }
      ]
    },
    {
      "cell_type": "code",
      "source": [
        "# линейный график - смотрим, как меняется удельный вес удаленной работы за период 2020-2022\n",
        "d = df.groupby('Working_Year').mean()['Remote_Working_Ratio']\n",
        "d.plot()"
      ],
      "metadata": {
        "colab": {
          "base_uri": "https://localhost:8080/",
          "height": 300
        },
        "id": "HZ2MgULStUwq",
        "outputId": "983a6d72-a718-436e-ca44-3ade9673aa84"
      },
      "execution_count": 127,
      "outputs": [
        {
          "output_type": "execute_result",
          "data": {
            "text/plain": [
              "<matplotlib.axes._subplots.AxesSubplot at 0x7f0497b25b10>"
            ]
          },
          "metadata": {},
          "execution_count": 127
        },
        {
          "output_type": "display_data",
          "data": {
            "text/plain": [
              "<Figure size 432x288 with 1 Axes>"
            ],
            "image/png": "[encoded data removed]"
          },
          "metadata": {
            "needs_background": "light"
          }
        }
      ]
    },
    {
      "cell_type": "code",
      "source": [
        "# фильтр - показать записи за 2022 год, где удельный вес удаленной работы max,т.е. 100%\n",
        "# 228 из 607\n",
        "df[(df['Remote_Working_Ratio'] == df['Remote_Working_Ratio'].max()) & (df['Working_Year']=='2022')]"
      ],
      "metadata": {
        "colab": {
          "base_uri": "https://localhost:8080/",
          "height": 424
        },
        "id": "NVEo9yQpvKAK",
        "outputId": "f176671b-ff92-41bb-db40-36fd66dc9937"
      },
      "execution_count": 128,
      "outputs": [
        {
          "output_type": "execute_result",
          "data": {
            "text/plain": [
              "    Working_Year     Designation Experience Employment_Status  \\\n",
              "289         2022   Data Engineer         SE                FT   \n",
              "290         2022    Data Analyst         SE                FT   \n",
              "291         2022    Data Analyst         SE                FT   \n",
              "294         2022   Data Engineer         MI                FT   \n",
              "295         2022   Data Engineer         MI                FT   \n",
              "..           ...             ...        ...               ...   \n",
              "599         2022  Data Scientist         MI                FT   \n",
              "602         2022   Data Engineer         SE                FT   \n",
              "603         2022   Data Engineer         SE                FT   \n",
              "605         2022    Data Analyst         SE                FT   \n",
              "606         2022    AI Scientist         MI                FT   \n",
              "\n",
              "     Salary_In_Rupees Employee_Location Company_Location Company_Size  \\\n",
              "289          21237.04                US               US            M   \n",
              "290         150367.26                US               US            M   \n",
              "291          11700.44                US               US            M   \n",
              "294         164918.93                US               US            M   \n",
              "295         145516.70                US               US            M   \n",
              "..                ...               ...              ...          ...   \n",
              "599           1639.03                US               US            M   \n",
              "602          14939.75                US               US            M   \n",
              "603           1533.23                US               US            M   \n",
              "605         145516.70                US               US            M   \n",
              "606           1940.22                IN               US            L   \n",
              "\n",
              "     Remote_Working_Ratio  \n",
              "289                   100  \n",
              "290                   100  \n",
              "291                   100  \n",
              "294                   100  \n",
              "295                   100  \n",
              "..                    ...  \n",
              "599                   100  \n",
              "602                   100  \n",
              "603                   100  \n",
              "605                   100  \n",
              "606                   100  \n",
              "\n",
              "[228 rows x 9 columns]"
            ],
            "text/html": [
              "\n",
              "  <div id=\"df-b2a40def-c6db-4bda-9bca-2bb8f96353dc\">\n",
              "    <div class=\"colab-df-container\">\n",
              "      <div>\n",
              "<style scoped>\n",
              "    .dataframe tbody tr th:only-of-type {\n",
              "        vertical-align: middle;\n",
              "    }\n",
              "\n",
              "    .dataframe tbody tr th {\n",
              "        vertical-align: top;\n",
              "    }\n",
              "\n",
              "    .dataframe thead th {\n",
              "        text-align: right;\n",
              "    }\n",
              "</style>\n",
              "<table border=\"1\" class=\"dataframe\">\n",
              "  <thead>\n",
              "    <tr style=\"text-align: right;\">\n",
              "      <th></th>\n",
              "      <th>Working_Year</th>\n",
              "      <th>Designation</th>\n",
              "      <th>Experience</th>\n",
              "      <th>Employment_Status</th>\n",
              "      <th>Salary_In_Rupees</th>\n",
              "      <th>Employee_Location</th>\n",
              "      <th>Company_Location</th>\n",
              "      <th>Company_Size</th>\n",
              "      <th>Remote_Working_Ratio</th>\n",
              "    </tr>\n",
              "  </thead>\n",
              "  <tbody>\n",
              "    <tr>\n",
              "      <th>289</th>\n",
              "      <td>2022</td>\n",
              "      <td>Data Engineer</td>\n",
              "      <td>SE</td>\n",
              "      <td>FT</td>\n",
              "      <td>21237.04</td>\n",
              "      <td>US</td>\n",
              "      <td>US</td>\n",
              "      <td>M</td>\n",
              "      <td>100</td>\n",
              "    </tr>\n",
              "    <tr>\n",
              "      <th>290</th>\n",
              "      <td>2022</td>\n",
              "      <td>Data Analyst</td>\n",
              "      <td>SE</td>\n",
              "      <td>FT</td>\n",
              "      <td>150367.26</td>\n",
              "      <td>US</td>\n",
              "      <td>US</td>\n",
              "      <td>M</td>\n",
              "      <td>100</td>\n",
              "    </tr>\n",
              "    <tr>\n",
              "      <th>291</th>\n",
              "      <td>2022</td>\n",
              "      <td>Data Analyst</td>\n",
              "      <td>SE</td>\n",
              "      <td>FT</td>\n",
              "      <td>11700.44</td>\n",
              "      <td>US</td>\n",
              "      <td>US</td>\n",
              "      <td>M</td>\n",
              "      <td>100</td>\n",
              "    </tr>\n",
              "    <tr>\n",
              "      <th>294</th>\n",
              "      <td>2022</td>\n",
              "      <td>Data Engineer</td>\n",
              "      <td>MI</td>\n",
              "      <td>FT</td>\n",
              "      <td>164918.93</td>\n",
              "      <td>US</td>\n",
              "      <td>US</td>\n",
              "      <td>M</td>\n",
              "      <td>100</td>\n",
              "    </tr>\n",
              "    <tr>\n",
              "      <th>295</th>\n",
              "      <td>2022</td>\n",
              "      <td>Data Engineer</td>\n",
              "      <td>MI</td>\n",
              "      <td>FT</td>\n",
              "      <td>145516.70</td>\n",
              "      <td>US</td>\n",
              "      <td>US</td>\n",
              "      <td>M</td>\n",
              "      <td>100</td>\n",
              "    </tr>\n",
              "    <tr>\n",
              "      <th>...</th>\n",
              "      <td>...</td>\n",
              "      <td>...</td>\n",
              "      <td>...</td>\n",
              "      <td>...</td>\n",
              "      <td>...</td>\n",
              "      <td>...</td>\n",
              "      <td>...</td>\n",
              "      <td>...</td>\n",
              "      <td>...</td>\n",
              "    </tr>\n",
              "    <tr>\n",
              "      <th>599</th>\n",
              "      <td>2022</td>\n",
              "      <td>Data Scientist</td>\n",
              "      <td>MI</td>\n",
              "      <td>FT</td>\n",
              "      <td>1639.03</td>\n",
              "      <td>US</td>\n",
              "      <td>US</td>\n",
              "      <td>M</td>\n",
              "      <td>100</td>\n",
              "    </tr>\n",
              "    <tr>\n",
              "      <th>602</th>\n",
              "      <td>2022</td>\n",
              "      <td>Data Engineer</td>\n",
              "      <td>SE</td>\n",
              "      <td>FT</td>\n",
              "      <td>14939.75</td>\n",
              "      <td>US</td>\n",
              "      <td>US</td>\n",
              "      <td>M</td>\n",
              "      <td>100</td>\n",
              "    </tr>\n",
              "    <tr>\n",
              "      <th>603</th>\n",
              "      <td>2022</td>\n",
              "      <td>Data Engineer</td>\n",
              "      <td>SE</td>\n",
              "      <td>FT</td>\n",
              "      <td>1533.23</td>\n",
              "      <td>US</td>\n",
              "      <td>US</td>\n",
              "      <td>M</td>\n",
              "      <td>100</td>\n",
              "    </tr>\n",
              "    <tr>\n",
              "      <th>605</th>\n",
              "      <td>2022</td>\n",
              "      <td>Data Analyst</td>\n",
              "      <td>SE</td>\n",
              "      <td>FT</td>\n",
              "      <td>145516.70</td>\n",
              "      <td>US</td>\n",
              "      <td>US</td>\n",
              "      <td>M</td>\n",
              "      <td>100</td>\n",
              "    </tr>\n",
              "    <tr>\n",
              "      <th>606</th>\n",
              "      <td>2022</td>\n",
              "      <td>AI Scientist</td>\n",
              "      <td>MI</td>\n",
              "      <td>FT</td>\n",
              "      <td>1940.22</td>\n",
              "      <td>IN</td>\n",
              "      <td>US</td>\n",
              "      <td>L</td>\n",
              "      <td>100</td>\n",
              "    </tr>\n",
              "  </tbody>\n",
              "</table>\n",
              "<p>228 rows × 9 columns</p>\n",
              "</div>\n",
              "      <button class=\"colab-df-convert\" onclick=\"convertToInteractive('df-b2a40def-c6db-4bda-9bca-2bb8f96353dc')\"\n",
              "              title=\"Convert this dataframe to an interactive table.\"\n",
              "              style=\"display:none;\">\n",
              "        \n",
              "  <svg xmlns=\"http://www.w3.org/2000/svg\" height=\"24px\"viewBox=\"0 0 24 24\"\n",
              "       width=\"24px\">\n",
              "    <path d=\"M0 0h24v24H0V0z\" fill=\"none\"/>\n",
              "    <path d=\"M18.56 5.44l.94 2.06.94-2.06 2.06-.94-2.06-.94-.94-2.06-.94 2.06-2.06.94zm-11 1L8.5 8.5l.94-2.06 2.06-.94-2.06-.94L8.5 2.5l-.94 2.06-2.06.94zm10 10l.94 2.06.94-2.06 2.06-.94-2.06-.94-.94-2.06-.94 2.06-2.06.94z\"/><path d=\"M17.41 7.96l-1.37-1.37c-.4-.4-.92-.59-1.43-.59-.52 0-1.04.2-1.43.59L10.3 9.45l-7.72 7.72c-.78.78-.78 2.05 0 2.83L4 21.41c.39.39.9.59 1.41.59.51 0 1.02-.2 1.41-.59l7.78-7.78 2.81-2.81c.8-.78.8-2.07 0-2.86zM5.41 20L4 18.59l7.72-7.72 1.47 1.35L5.41 20z\"/>\n",
              "  </svg>\n",
              "      </button>\n",
              "      \n",
              "  <style>\n",
              "    .colab-df-container {\n",
              "      display:flex;\n",
              "      flex-wrap:wrap;\n",
              "      gap: 12px;\n",
              "    }\n",
              "\n",
              "    .colab-df-convert {\n",
              "      background-color: #E8F0FE;\n",
              "      border: none;\n",
              "      border-radius: 50%;\n",
              "      cursor: pointer;\n",
              "      display: none;\n",
              "      fill: #1967D2;\n",
              "      height: 32px;\n",
              "      padding: 0 0 0 0;\n",
              "      width: 32px;\n",
              "    }\n",
              "\n",
              "    .colab-df-convert:hover {\n",
              "      background-color: #E2EBFA;\n",
              "      box-shadow: 0px 1px 2px rgba(60, 64, 67, 0.3), 0px 1px 3px 1px rgba(60, 64, 67, 0.15);\n",
              "      fill: #174EA6;\n",
              "    }\n",
              "\n",
              "    [theme=dark] .colab-df-convert {\n",
              "      background-color: #3B4455;\n",
              "      fill: #D2E3FC;\n",
              "    }\n",
              "\n",
              "    [theme=dark] .colab-df-convert:hover {\n",
              "      background-color: #434B5C;\n",
              "      box-shadow: 0px 1px 3px 1px rgba(0, 0, 0, 0.15);\n",
              "      filter: drop-shadow(0px 1px 2px rgba(0, 0, 0, 0.3));\n",
              "      fill: #FFFFFF;\n",
              "    }\n",
              "  </style>\n",
              "\n",
              "      <script>\n",
              "        const buttonEl =\n",
              "          document.querySelector('#df-b2a40def-c6db-4bda-9bca-2bb8f96353dc button.colab-df-convert');\n",
              "        buttonEl.style.display =\n",
              "          google.colab.kernel.accessAllowed ? 'block' : 'none';\n",
              "\n",
              "        async function convertToInteractive(key) {\n",
              "          const element = document.querySelector('#df-b2a40def-c6db-4bda-9bca-2bb8f96353dc');\n",
              "          const dataTable =\n",
              "            await google.colab.kernel.invokeFunction('convertToInteractive',\n",
              "                                                     [key], {});\n",
              "          if (!dataTable) return;\n",
              "\n",
              "          const docLinkHtml = 'Like what you see? Visit the ' +\n",
              "            '<a target=\"_blank\" href=https://colab.research.google.com/notebooks/data_table.ipynb>data table notebook</a>'\n",
              "            + ' to learn more about interactive tables.';\n",
              "          element.innerHTML = '';\n",
              "          dataTable['output_type'] = 'display_data';\n",
              "          await google.colab.output.renderOutput(dataTable, element);\n",
              "          const docLink = document.createElement('div');\n",
              "          docLink.innerHTML = docLinkHtml;\n",
              "          element.appendChild(docLink);\n",
              "        }\n",
              "      </script>\n",
              "    </div>\n",
              "  </div>\n",
              "  "
            ]
          },
          "metadata": {},
          "execution_count": 128
        }
      ]
    },
    {
      "cell_type": "code",
      "source": [
        "# число записей по каждой категории специалиста\n",
        "df['Designation'].value_counts()\n"
      ],
      "metadata": {
        "colab": {
          "base_uri": "https://localhost:8080/"
        },
        "id": "JjC9YDa3VM6s",
        "outputId": "229de861-5abd-45d8-a029-08fd9376c3fe"
      },
      "execution_count": 129,
      "outputs": [
        {
          "output_type": "execute_result",
          "data": {
            "text/plain": [
              "Data Scientist                              143\n",
              "Data Engineer                               132\n",
              "Data Analyst                                 97\n",
              "Machine Learning Engineer                    41\n",
              "Research Scientist                           16\n",
              "Data Science Manager                         12\n",
              "Data Architect                               11\n",
              "Big Data Engineer                             8\n",
              "Machine Learning Scientist                    8\n",
              "Principal Data Scientist                      7\n",
              "AI Scientist                                  7\n",
              "Data Science Consultant                       7\n",
              "Director of Data Science                      7\n",
              "Data Analytics Manager                        7\n",
              "ML Engineer                                   6\n",
              "Computer Vision Engineer                      6\n",
              "BI Data Analyst                               6\n",
              "Lead Data Engineer                            6\n",
              "Data Engineering Manager                      5\n",
              "Business Data Analyst                         5\n",
              "Head of Data                                  5\n",
              "Applied Data Scientist                        5\n",
              "Applied Machine Learning Scientist            4\n",
              "Head of Data Science                          4\n",
              "Analytics Engineer                            4\n",
              "Data Analytics Engineer                       4\n",
              "Machine Learning Developer                    3\n",
              "Machine Learning Infrastructure Engineer      3\n",
              "Lead Data Scientist                           3\n",
              "Computer Vision Software Engineer             3\n",
              "Lead Data Analyst                             3\n",
              "Data Science Engineer                         3\n",
              "Principal Data Engineer                       3\n",
              "Principal Data Analyst                        2\n",
              "ETL Developer                                 2\n",
              "Product Data Analyst                          2\n",
              "Director of Data Engineering                  2\n",
              "Financial Data Analyst                        2\n",
              "Cloud Data Engineer                           2\n",
              "Lead Machine Learning Engineer                1\n",
              "NLP Engineer                                  1\n",
              "Head of Machine Learning                      1\n",
              "3D Computer Vision Researcher                 1\n",
              "Data Specialist                               1\n",
              "Staff Data Scientist                          1\n",
              "Big Data Architect                            1\n",
              "Finance Data Analyst                          1\n",
              "Marketing Data Analyst                        1\n",
              "Machine Learning Manager                      1\n",
              "Data Analytics Lead                           1\n",
              "Name: Designation, dtype: int64"
            ]
          },
          "metadata": {},
          "execution_count": 129
        }
      ]
    },
    {
      "cell_type": "code",
      "source": [
        "# Барный график - Построим первые 10 значений по числу записей в категории\n",
        "# по сути видим распространенность профессии, где ФОТ значительно больше\n",
        "d = df['Designation'].value_counts().head(10)\n",
        "# [:10]\n",
        "d.plot.bar()"
      ],
      "metadata": {
        "colab": {
          "base_uri": "https://localhost:8080/",
          "height": 409
        },
        "id": "Q1VopF7iW93q",
        "outputId": "68f6e3ae-751d-4328-b324-e1535d7958b4"
      },
      "execution_count": 130,
      "outputs": [
        {
          "output_type": "execute_result",
          "data": {
            "text/plain": [
              "<matplotlib.axes._subplots.AxesSubplot at 0x7f04979bd9d0>"
            ]
          },
          "metadata": {},
          "execution_count": 130
        },
        {
          "output_type": "display_data",
          "data": {
            "text/plain": [
              "<Figure size 432x288 with 1 Axes>"
            ],
            "image/png": "[encoded data removed]"
          },
          "metadata": {
            "needs_background": "light"
          }
        }
      ]
    },
    {
      "cell_type": "markdown",
      "source": [
        "Примерно ту же картину мы видим при распределении ФОТ в рамках профессий"
      ],
      "metadata": {
        "id": "B1wyZDN8glcv"
      }
    },
    {
      "cell_type": "code",
      "source": [
        "# Барный график - Построим первые 10 значений по размеру ФОТ в категории\n",
        "d = sorted_df['Salary_In_Rupees'].head(10)\n",
        "# [:10]\n",
        "d.plot.bar()\n"
      ],
      "metadata": {
        "colab": {
          "base_uri": "https://localhost:8080/",
          "height": 434
        },
        "id": "NBbiGj-sgv-5",
        "outputId": "874401e2-5e0d-40e0-bf45-8964a1794f96"
      },
      "execution_count": 131,
      "outputs": [
        {
          "output_type": "execute_result",
          "data": {
            "text/plain": [
              "<matplotlib.axes._subplots.AxesSubplot at 0x7f049791ce50>"
            ]
          },
          "metadata": {},
          "execution_count": 131
        },
        {
          "output_type": "display_data",
          "data": {
            "text/plain": [
              "<Figure size 432x288 with 1 Axes>"
            ],
            "image/png": "[encoded data removed]"
          },
          "metadata": {
            "needs_background": "light"
          }
        }
      ]
    },
    {
      "cell_type": "markdown",
      "source": [
        "**4 наиболее востребованные профессиональные направления:**\n",
        "\n",
        "*   Data Scientist\n",
        "*   Data Engineer\n",
        "*   Data Analyst \n",
        "*   Machine Learning Engineer\n",
        "\n",
        "\n",
        "\n",
        "\n",
        "                              \n",
        "                                \n",
        "                    "
      ],
      "metadata": {
        "id": "pzOC_mFAhpB3"
      }
    },
    {
      "cell_type": "code",
      "source": [
        "#объем выплат по годам\n",
        "df.groupby(['Working_Year']).sum()['Salary_In_Rupees']\n"
      ],
      "metadata": {
        "colab": {
          "base_uri": "https://localhost:8080/"
        },
        "id": "Xk6eQfKBZuQY",
        "outputId": "e018995c-d392-4903-a4b9-18a6b7c0a622"
      },
      "execution_count": 132,
      "outputs": [
        {
          "output_type": "execute_result",
          "data": {
            "text/plain": [
              "Working_Year\n",
              "2020     3253458.16\n",
              "2021    10302369.76\n",
              "2022    17861180.12\n",
              "Name: Salary_In_Rupees, dtype: float64"
            ]
          },
          "metadata": {},
          "execution_count": 132
        }
      ]
    },
    {
      "cell_type": "code",
      "source": [
        "# посмотрим темпы прироста объемов выплат по ЗП в целом по отрасли\n",
        "growth2021 = df.loc[(df['Working_Year'] == '2021'),['Salary_In_Rupees']].sum() / df.loc[(df['Working_Year'] == '2020'),['Salary_In_Rupees']].sum() \n",
        "print('Темп прироста 2021 к 2020: ',\"{:.0%}\".format(float(growth2021)))\n",
        "growth2022 = df.loc[(df['Working_Year'] == '2022'),['Salary_In_Rupees']].sum() / df.loc[(df['Working_Year'] == '2021'),['Salary_In_Rupees']].sum() \n",
        "print('Темп прироста 2022 к 2021: ',\"{:.0%}\".format(float(growth2022)))\n"
      ],
      "metadata": {
        "colab": {
          "base_uri": "https://localhost:8080/"
        },
        "id": "7s4uXg7HvFwz",
        "outputId": "72b269ae-efcb-4971-bafc-4a2fa9b77b61"
      },
      "execution_count": 133,
      "outputs": [
        {
          "output_type": "stream",
          "name": "stdout",
          "text": [
            "Темп прироста 2021 к 2020:  317%\n",
            "Темп прироста 2022 к 2021:  173%\n"
          ]
        }
      ]
    },
    {
      "cell_type": "code",
      "source": [
        "# Год выплаты заработной платы (2020, 2021, 2022) - объем выплат - барный график\n",
        "d = df.groupby(['Working_Year']).sum()['Salary_In_Rupees']\n",
        "d.plot.bar()"
      ],
      "metadata": {
        "colab": {
          "base_uri": "https://localhost:8080/",
          "height": 324
        },
        "id": "7azJ1O_8XnNm",
        "outputId": "61438f42-ab3c-46a7-f0f9-ac2e74973350"
      },
      "execution_count": 134,
      "outputs": [
        {
          "output_type": "execute_result",
          "data": {
            "text/plain": [
              "<matplotlib.axes._subplots.AxesSubplot at 0x7f04979359d0>"
            ]
          },
          "metadata": {},
          "execution_count": 134
        },
        {
          "output_type": "display_data",
          "data": {
            "text/plain": [
              "<Figure size 432x288 with 1 Axes>"
            ],
            "image/png": "[encoded data removed]"
          },
          "metadata": {
            "needs_background": "light"
          }
        }
      ]
    },
    {
      "cell_type": "markdown",
      "source": [
        "Отсюда видим, что объем выплат ЗП в отрасли растет с каждым годом\n",
        "*   прирост в 2021 относительно 2020 - 317%\n",
        "*   прирост в 2022 относительно 2021 - 173% \n",
        "\n",
        "Однако темп прироста сократился, что может говорить о сокращении потребности в новых сотрудниках в отрасли.\n",
        "\n",
        "\n"
      ],
      "metadata": {
        "id": "q2COR4f6bKwZ"
      }
    },
    {
      "cell_type": "code",
      "source": [
        "# смотрим значения уникальных элементов по столбцам для последующей выборки\n",
        "df.apply(lambda col: col.unique())"
      ],
      "metadata": {
        "colab": {
          "base_uri": "https://localhost:8080/"
        },
        "id": "LssYEyNUmdPj",
        "outputId": "bebf2443-e274-4b83-c6a2-07f19f84275b"
      },
      "execution_count": 135,
      "outputs": [
        {
          "output_type": "execute_result",
          "data": {
            "text/plain": [
              "Working_Year                                           [2020, 2021, 2022]\n",
              "Designation             [Data Scientist, Machine Learning Scientist, B...\n",
              "Experience                                               [MI, SE, EN, EX]\n",
              "Employment_Status                                        [FT, CT, PT, FL]\n",
              "Salary_In_Rupees        [77446.9, 327.81, 105765.42, 1940.22, 145516.7...\n",
              "Employee_Location       [DE, JP, GB, HN, US, HU, NZ, FR, IN, PK, PL, P...\n",
              "Company_Location        [DE, JP, GB, HN, US, HU, NZ, FR, IN, PK, CN, G...\n",
              "Company_Size                                                    [L, S, M]\n",
              "Remote_Working_Ratio                                         [0, 50, 100]\n",
              "dtype: object"
            ]
          },
          "metadata": {},
          "execution_count": 135
        }
      ]
    },
    {
      "cell_type": "markdown",
      "source": [
        "Посмотрим распределение базы по другим параметрам/колонкам."
      ],
      "metadata": {
        "id": "lXIhMn6yqQIe"
      }
    },
    {
      "cell_type": "code",
      "source": [
        "# круговая диаграмма в процентах - распределение ФОТ по уровню опыта \n",
        "df['Experience'] = df['Experience'].replace('EN','Entry-level/Junior')\n",
        "df['Experience'] = df['Experience'].replace('MI','Mid-level/Intermediate')\n",
        "df['Experience'] = df['Experience'].replace('SE','Senior-level/Expert')\n",
        "df['Experience'] = df['Experience'].replace('EX','Executive-level/Director')\n",
        "df.groupby(['Experience']).sum().plot(\n",
        "    kind='pie', y='Salary_In_Rupees', autopct='%1.0f%%')"
      ],
      "metadata": {
        "colab": {
          "base_uri": "https://localhost:8080/",
          "height": 265
        },
        "id": "M0csGmBsqcXC",
        "outputId": "c84a4348-f04e-4bbb-8e81-c9bbfac1146f"
      },
      "execution_count": 136,
      "outputs": [
        {
          "output_type": "execute_result",
          "data": {
            "text/plain": [
              "<matplotlib.axes._subplots.AxesSubplot at 0x7f04977c4410>"
            ]
          },
          "metadata": {},
          "execution_count": 136
        },
        {
          "output_type": "display_data",
          "data": {
            "text/plain": [
              "<Figure size 432x288 with 1 Axes>"
            ],
            "image/png": "[encoded data removed]"
          },
          "metadata": {}
        }
      ]
    },
    {
      "cell_type": "markdown",
      "source": [
        "По имеющимся данным более половины объема выплаченной ЗП приходится на уровень \n",
        "\n",
        "'SE','Senior-level/Expert' - 56%\n",
        "\n",
        "Остальные 44% распределены между:\n",
        "\n",
        "'EN','Entry-level/Junior' - 9%\n",
        "\n",
        "'MI','Mid-level/Intermediate' - 29%\n",
        "\n",
        "'EX','Executive-level/Director' - 6%"
      ],
      "metadata": {
        "id": "bauy3-7SBbmd"
      }
    },
    {
      "cell_type": "code",
      "source": [
        "# Топ-10 Employee_Location - Местоположение сотрудника, посмотрим картину на барном графике\n",
        "df['Employee_Location'].value_counts().head(10).plot(x='Employee_Location', y='Salary_In_Rupees', kind='bar')             "
      ],
      "metadata": {
        "colab": {
          "base_uri": "https://localhost:8080/",
          "height": 287
        },
        "id": "HVj6wIOHs9ne",
        "outputId": "7b7faf4b-b033-4378-e981-774976765e7b"
      },
      "execution_count": 137,
      "outputs": [
        {
          "output_type": "execute_result",
          "data": {
            "text/plain": [
              "<matplotlib.axes._subplots.AxesSubplot at 0x7f0497786790>"
            ]
          },
          "metadata": {},
          "execution_count": 137
        },
        {
          "output_type": "display_data",
          "data": {
            "text/plain": [
              "<Figure size 432x288 with 1 Axes>"
            ],
            "image/png": "[encoded data removed]"
          },
          "metadata": {
            "needs_background": "light"
          }
        }
      ]
    },
    {
      "cell_type": "code",
      "source": [
        "# График распределения объема выплат по ЗП по размерам компаний\n",
        "size = df['Company_Size'].value_counts()\n",
        "top = size\n",
        "colors = ['pink', 'silver', 'steelblue']\n",
        "top.plot(x='Company_Size', y=top.values, kind='pie', autopct='%1.0f%%',colors=colors) \n"
      ],
      "metadata": {
        "colab": {
          "base_uri": "https://localhost:8080/",
          "height": 265
        },
        "id": "zN7SdRycv_FY",
        "outputId": "b398931a-297e-4034-fe75-27f63fc7260e"
      },
      "execution_count": 138,
      "outputs": [
        {
          "output_type": "execute_result",
          "data": {
            "text/plain": [
              "<matplotlib.axes._subplots.AxesSubplot at 0x7f0497726bd0>"
            ]
          },
          "metadata": {},
          "execution_count": 138
        },
        {
          "output_type": "display_data",
          "data": {
            "text/plain": [
              "<Figure size 432x288 with 1 Axes>"
            ],
            "image/png": "[encoded data removed]"
          },
          "metadata": {}
        }
      ]
    },
    {
      "cell_type": "markdown",
      "source": [
        "Здесь мы видим, что чуть больше половины объема ФОТ приходится на средние компании, чуть меньше половины распределены между крупными и малыми.\n",
        "\n",
        "Company_Size Среднее количество людей, проработавших в компании в течение года.\n",
        "\n",
        "S (малый) — менее 50 сотрудников, 14%\n",
        "\n",
        "M (средний) — от 50 до 250 сотрудников, 54%\n",
        "\n",
        "L (крупный) — более 250 сотрудников, 33%"
      ],
      "metadata": {
        "id": "uD-CFyVIxmgc"
      }
    },
    {
      "cell_type": "code",
      "source": [
        "# группировка по годам и степени удаленности выполняемых работ - показано количество записей\n",
        "dw = df.groupby(['Working_Year','Remote_Working_Ratio']).count()[['Salary_In_Rupees']]\n",
        "dw\n"
      ],
      "metadata": {
        "colab": {
          "base_uri": "https://localhost:8080/",
          "height": 363
        },
        "id": "HiT66Ru8zfL3",
        "outputId": "2a724e58-31e4-40dd-80bd-b1d181e1c181"
      },
      "execution_count": 139,
      "outputs": [
        {
          "output_type": "execute_result",
          "data": {
            "text/plain": [
              "                                   Salary_In_Rupees\n",
              "Working_Year Remote_Working_Ratio                  \n",
              "2020         0                                   15\n",
              "             50                                  21\n",
              "             100                                 36\n",
              "2021         0                                   34\n",
              "             50                                  66\n",
              "             100                                117\n",
              "2022         0                                   78\n",
              "             50                                  12\n",
              "             100                                228"
            ],
            "text/html": [
              "\n",
              "  <div id=\"df-3be4615c-f08b-4664-ab55-38d01ff23627\">\n",
              "    <div class=\"colab-df-container\">\n",
              "      <div>\n",
              "<style scoped>\n",
              "    .dataframe tbody tr th:only-of-type {\n",
              "        vertical-align: middle;\n",
              "    }\n",
              "\n",
              "    .dataframe tbody tr th {\n",
              "        vertical-align: top;\n",
              "    }\n",
              "\n",
              "    .dataframe thead th {\n",
              "        text-align: right;\n",
              "    }\n",
              "</style>\n",
              "<table border=\"1\" class=\"dataframe\">\n",
              "  <thead>\n",
              "    <tr style=\"text-align: right;\">\n",
              "      <th></th>\n",
              "      <th></th>\n",
              "      <th>Salary_In_Rupees</th>\n",
              "    </tr>\n",
              "    <tr>\n",
              "      <th>Working_Year</th>\n",
              "      <th>Remote_Working_Ratio</th>\n",
              "      <th></th>\n",
              "    </tr>\n",
              "  </thead>\n",
              "  <tbody>\n",
              "    <tr>\n",
              "      <th rowspan=\"3\" valign=\"top\">2020</th>\n",
              "      <th>0</th>\n",
              "      <td>15</td>\n",
              "    </tr>\n",
              "    <tr>\n",
              "      <th>50</th>\n",
              "      <td>21</td>\n",
              "    </tr>\n",
              "    <tr>\n",
              "      <th>100</th>\n",
              "      <td>36</td>\n",
              "    </tr>\n",
              "    <tr>\n",
              "      <th rowspan=\"3\" valign=\"top\">2021</th>\n",
              "      <th>0</th>\n",
              "      <td>34</td>\n",
              "    </tr>\n",
              "    <tr>\n",
              "      <th>50</th>\n",
              "      <td>66</td>\n",
              "    </tr>\n",
              "    <tr>\n",
              "      <th>100</th>\n",
              "      <td>117</td>\n",
              "    </tr>\n",
              "    <tr>\n",
              "      <th rowspan=\"3\" valign=\"top\">2022</th>\n",
              "      <th>0</th>\n",
              "      <td>78</td>\n",
              "    </tr>\n",
              "    <tr>\n",
              "      <th>50</th>\n",
              "      <td>12</td>\n",
              "    </tr>\n",
              "    <tr>\n",
              "      <th>100</th>\n",
              "      <td>228</td>\n",
              "    </tr>\n",
              "  </tbody>\n",
              "</table>\n",
              "</div>\n",
              "      <button class=\"colab-df-convert\" onclick=\"convertToInteractive('df-3be4615c-f08b-4664-ab55-38d01ff23627')\"\n",
              "              title=\"Convert this dataframe to an interactive table.\"\n",
              "              style=\"display:none;\">\n",
              "        \n",
              "  <svg xmlns=\"http://www.w3.org/2000/svg\" height=\"24px\"viewBox=\"0 0 24 24\"\n",
              "       width=\"24px\">\n",
              "    <path d=\"M0 0h24v24H0V0z\" fill=\"none\"/>\n",
              "    <path d=\"M18.56 5.44l.94 2.06.94-2.06 2.06-.94-2.06-.94-.94-2.06-.94 2.06-2.06.94zm-11 1L8.5 8.5l.94-2.06 2.06-.94-2.06-.94L8.5 2.5l-.94 2.06-2.06.94zm10 10l.94 2.06.94-2.06 2.06-.94-2.06-.94-.94-2.06-.94 2.06-2.06.94z\"/><path d=\"M17.41 7.96l-1.37-1.37c-.4-.4-.92-.59-1.43-.59-.52 0-1.04.2-1.43.59L10.3 9.45l-7.72 7.72c-.78.78-.78 2.05 0 2.83L4 21.41c.39.39.9.59 1.41.59.51 0 1.02-.2 1.41-.59l7.78-7.78 2.81-2.81c.8-.78.8-2.07 0-2.86zM5.41 20L4 18.59l7.72-7.72 1.47 1.35L5.41 20z\"/>\n",
              "  </svg>\n",
              "      </button>\n",
              "      \n",
              "  <style>\n",
              "    .colab-df-container {\n",
              "      display:flex;\n",
              "      flex-wrap:wrap;\n",
              "      gap: 12px;\n",
              "    }\n",
              "\n",
              "    .colab-df-convert {\n",
              "      background-color: #E8F0FE;\n",
              "      border: none;\n",
              "      border-radius: 50%;\n",
              "      cursor: pointer;\n",
              "      display: none;\n",
              "      fill: #1967D2;\n",
              "      height: 32px;\n",
              "      padding: 0 0 0 0;\n",
              "      width: 32px;\n",
              "    }\n",
              "\n",
              "    .colab-df-convert:hover {\n",
              "      background-color: #E2EBFA;\n",
              "      box-shadow: 0px 1px 2px rgba(60, 64, 67, 0.3), 0px 1px 3px 1px rgba(60, 64, 67, 0.15);\n",
              "      fill: #174EA6;\n",
              "    }\n",
              "\n",
              "    [theme=dark] .colab-df-convert {\n",
              "      background-color: #3B4455;\n",
              "      fill: #D2E3FC;\n",
              "    }\n",
              "\n",
              "    [theme=dark] .colab-df-convert:hover {\n",
              "      background-color: #434B5C;\n",
              "      box-shadow: 0px 1px 3px 1px rgba(0, 0, 0, 0.15);\n",
              "      filter: drop-shadow(0px 1px 2px rgba(0, 0, 0, 0.3));\n",
              "      fill: #FFFFFF;\n",
              "    }\n",
              "  </style>\n",
              "\n",
              "      <script>\n",
              "        const buttonEl =\n",
              "          document.querySelector('#df-3be4615c-f08b-4664-ab55-38d01ff23627 button.colab-df-convert');\n",
              "        buttonEl.style.display =\n",
              "          google.colab.kernel.accessAllowed ? 'block' : 'none';\n",
              "\n",
              "        async function convertToInteractive(key) {\n",
              "          const element = document.querySelector('#df-3be4615c-f08b-4664-ab55-38d01ff23627');\n",
              "          const dataTable =\n",
              "            await google.colab.kernel.invokeFunction('convertToInteractive',\n",
              "                                                     [key], {});\n",
              "          if (!dataTable) return;\n",
              "\n",
              "          const docLinkHtml = 'Like what you see? Visit the ' +\n",
              "            '<a target=\"_blank\" href=https://colab.research.google.com/notebooks/data_table.ipynb>data table notebook</a>'\n",
              "            + ' to learn more about interactive tables.';\n",
              "          element.innerHTML = '';\n",
              "          dataTable['output_type'] = 'display_data';\n",
              "          await google.colab.output.renderOutput(dataTable, element);\n",
              "          const docLink = document.createElement('div');\n",
              "          docLink.innerHTML = docLinkHtml;\n",
              "          element.appendChild(docLink);\n",
              "        }\n",
              "      </script>\n",
              "    </div>\n",
              "  </div>\n",
              "  "
            ]
          },
          "metadata": {},
          "execution_count": 139
        }
      ]
    },
    {
      "cell_type": "markdown",
      "source": [
        "К 2022 году значительно сократилась 50%-ая удаленная занятость, при этом почти в два раза выросли показатели нулевой и 100%-ой удаленной занятости относительно прошлого года. В целом, объемы работ показывают рост."
      ],
      "metadata": {
        "id": "nCkKJY0v4i6h"
      }
    },
    {
      "cell_type": "code",
      "source": [
        "# Линейный график\n",
        "# # группировка по годам и степени удаленности выполняемых работ - показано количество записей\n",
        "dw.plot()\n"
      ],
      "metadata": {
        "colab": {
          "base_uri": "https://localhost:8080/",
          "height": 297
        },
        "id": "KU1JdPwy5cIL",
        "outputId": "8b662a8f-b1eb-47fb-af76-909f6ca2267e"
      },
      "execution_count": 140,
      "outputs": [
        {
          "output_type": "execute_result",
          "data": {
            "text/plain": [
              "<matplotlib.axes._subplots.AxesSubplot at 0x7f0497694310>"
            ]
          },
          "metadata": {},
          "execution_count": 140
        },
        {
          "output_type": "display_data",
          "data": {
            "text/plain": [
              "<Figure size 432x288 with 1 Axes>"
            ],
            "image/png": "[encoded data removed]"
          },
          "metadata": {
            "needs_background": "light"
          }
        }
      ]
    },
    {
      "cell_type": "code",
      "source": [
        "# Та же выборка, барный график\n",
        "dw.plot.bar()"
      ],
      "metadata": {
        "colab": {
          "base_uri": "https://localhost:8080/",
          "height": 345
        },
        "id": "-Bp3JDip6IhP",
        "outputId": "ad9f4c49-e6d9-41f8-86b7-a23bb3df4826"
      },
      "execution_count": 141,
      "outputs": [
        {
          "output_type": "execute_result",
          "data": {
            "text/plain": [
              "<matplotlib.axes._subplots.AxesSubplot at 0x7f0497677a90>"
            ]
          },
          "metadata": {},
          "execution_count": 141
        },
        {
          "output_type": "display_data",
          "data": {
            "text/plain": [
              "<Figure size 432x288 with 1 Axes>"
            ],
            "image/png": "[encoded data removed]"
          },
          "metadata": {
            "needs_background": "light"
          }
        }
      ]
    },
    {
      "cell_type": "markdown",
      "source": [
        "Посмотрим выборки по значениям типа занятости.\n",
        "\n",
        "Employment_Status:\n",
        "\n",
        "[PT – неполный рабочий день, FT – полный рабочий день, CT – контракт, FL – фриланс]"
      ],
      "metadata": {
        "id": "Z0Ft813VPwFY"
      }
    },
    {
      "cell_type": "code",
      "source": [
        "# отберем средний объем выплат на фрилансе за три года \n",
        "df.loc[(df['Employment_Status']== 'FL'),['Salary_In_Rupees']].mean()\n"
      ],
      "metadata": {
        "colab": {
          "base_uri": "https://localhost:8080/"
        },
        "id": "jOSTzt8rQFqs",
        "outputId": "ae61fefe-51d6-457e-b5d1-9ff68b381ea1"
      },
      "execution_count": 142,
      "outputs": [
        {
          "output_type": "execute_result",
          "data": {
            "text/plain": [
              "Salary_In_Rupees    7275.835\n",
              "dtype: float64"
            ]
          },
          "metadata": {},
          "execution_count": 142
        }
      ]
    },
    {
      "cell_type": "code",
      "source": [
        "# суммы выплат всего по типам занятости\n",
        "df.groupby('Employment_Status')['Salary_In_Rupees'].sum() "
      ],
      "metadata": {
        "colab": {
          "base_uri": "https://localhost:8080/"
        },
        "id": "pSMqQog_Rr3U",
        "outputId": "6c846676-2a31-4891-d556-8e0ab6c7568d"
      },
      "execution_count": 143,
      "outputs": [
        {
          "output_type": "execute_result",
          "data": {
            "text/plain": [
              "Employment_Status\n",
              "CT      408461.84\n",
              "FL       29103.34\n",
              "FT    30838945.34\n",
              "PT      140497.52\n",
              "Name: Salary_In_Rupees, dtype: float64"
            ]
          },
          "metadata": {},
          "execution_count": 143
        }
      ]
    },
    {
      "cell_type": "code",
      "source": [
        "# отобразим выплаты по типам занятости на круговой диаграмме\n",
        "df.groupby(['Employment_Status']).sum().plot(\n",
        "    kind='pie', y='Salary_In_Rupees', autopct='%1.0f%%')"
      ],
      "metadata": {
        "colab": {
          "base_uri": "https://localhost:8080/",
          "height": 265
        },
        "id": "0Rq27DX9UfQK",
        "outputId": "45d495da-7177-497b-d9bd-67e01002eac4"
      },
      "execution_count": 144,
      "outputs": [
        {
          "output_type": "execute_result",
          "data": {
            "text/plain": [
              "<matplotlib.axes._subplots.AxesSubplot at 0x7f0497595650>"
            ]
          },
          "metadata": {},
          "execution_count": 144
        },
        {
          "output_type": "display_data",
          "data": {
            "text/plain": [
              "<Figure size 432x288 with 1 Axes>"
            ],
            "image/png": "[encoded data removed]"
          },
          "metadata": {}
        }
      ]
    },
    {
      "cell_type": "markdown",
      "source": [
        "Видим, что основной объем выплат, 98% приходятся на работы при полной занятости."
      ],
      "metadata": {
        "id": "APCiDcfHV6p5"
      }
    },
    {
      "cell_type": "code",
      "source": [
        "# группировка в разрезе типов занятости, рабочих лет и уровня опыта - отображаем сумму выплат по подгруппам\n",
        "df.groupby(['Employment_Status','Experience','Working_Year'])['Salary_In_Rupees'].sum().reset_index() "
      ],
      "metadata": {
        "colab": {
          "base_uri": "https://localhost:8080/",
          "height": 833
        },
        "id": "P2ibEQsZTiCI",
        "outputId": "55c967a9-4cf1-4b4d-a19b-08c5310d198d"
      },
      "execution_count": 145,
      "outputs": [
        {
          "output_type": "execute_result",
          "data": {
            "text/plain": [
              "   Employment_Status                Experience Working_Year  Salary_In_Rupees\n",
              "0                 CT        Entry-level/Junior         2020           9701.11\n",
              "1                 CT        Entry-level/Junior         2022          30922.30\n",
              "2                 CT  Executive-level/Director         2021           4046.67\n",
              "3                 CT    Mid-level/Intermediate         2021         261930.06\n",
              "4                 CT       Senior-level/Expert         2021         101861.70\n",
              "5                 FL    Mid-level/Intermediate         2021          13581.56\n",
              "6                 FL    Mid-level/Intermediate         2022           9701.11\n",
              "7                 FL       Senior-level/Expert         2020           5820.67\n",
              "8                 FT        Entry-level/Junior         2020         635550.57\n",
              "9                 FT        Entry-level/Junior         2021        1327477.09\n",
              "10                FT        Entry-level/Junior         2022         758909.29\n",
              "11                FT  Executive-level/Director         2020          80600.82\n",
              "12                FT  Executive-level/Director         2021         854142.19\n",
              "13                FT  Executive-level/Director         2022        1020922.94\n",
              "14                FT    Mid-level/Intermediate         2020        1219298.84\n",
              "15                FT    Mid-level/Intermediate         2021        3849309.59\n",
              "16                FT    Mid-level/Intermediate         2022        3562111.87\n",
              "17                FT       Senior-level/Expert         2020        1281309.40\n",
              "18                FT       Senior-level/Expert         2021        3785732.69\n",
              "19                FT       Senior-level/Expert         2022       12463580.05\n",
              "20                PT        Entry-level/Junior         2020          21176.75\n",
              "21                PT        Entry-level/Junior         2021          36102.66\n",
              "22                PT        Entry-level/Junior         2022           9701.11\n",
              "23                PT    Mid-level/Intermediate         2021          68185.55\n",
              "24                PT    Mid-level/Intermediate         2022           5331.45"
            ],
            "text/html": [
              "\n",
              "  <div id=\"df-bd044435-7dce-4af5-b295-fb83f92577b0\">\n",
              "    <div class=\"colab-df-container\">\n",
              "      <div>\n",
              "<style scoped>\n",
              "    .dataframe tbody tr th:only-of-type {\n",
              "        vertical-align: middle;\n",
              "    }\n",
              "\n",
              "    .dataframe tbody tr th {\n",
              "        vertical-align: top;\n",
              "    }\n",
              "\n",
              "    .dataframe thead th {\n",
              "        text-align: right;\n",
              "    }\n",
              "</style>\n",
              "<table border=\"1\" class=\"dataframe\">\n",
              "  <thead>\n",
              "    <tr style=\"text-align: right;\">\n",
              "      <th></th>\n",
              "      <th>Employment_Status</th>\n",
              "      <th>Experience</th>\n",
              "      <th>Working_Year</th>\n",
              "      <th>Salary_In_Rupees</th>\n",
              "    </tr>\n",
              "  </thead>\n",
              "  <tbody>\n",
              "    <tr>\n",
              "      <th>0</th>\n",
              "      <td>CT</td>\n",
              "      <td>Entry-level/Junior</td>\n",
              "      <td>2020</td>\n",
              "      <td>9701.11</td>\n",
              "    </tr>\n",
              "    <tr>\n",
              "      <th>1</th>\n",
              "      <td>CT</td>\n",
              "      <td>Entry-level/Junior</td>\n",
              "      <td>2022</td>\n",
              "      <td>30922.30</td>\n",
              "    </tr>\n",
              "    <tr>\n",
              "      <th>2</th>\n",
              "      <td>CT</td>\n",
              "      <td>Executive-level/Director</td>\n",
              "      <td>2021</td>\n",
              "      <td>4046.67</td>\n",
              "    </tr>\n",
              "    <tr>\n",
              "      <th>3</th>\n",
              "      <td>CT</td>\n",
              "      <td>Mid-level/Intermediate</td>\n",
              "      <td>2021</td>\n",
              "      <td>261930.06</td>\n",
              "    </tr>\n",
              "    <tr>\n",
              "      <th>4</th>\n",
              "      <td>CT</td>\n",
              "      <td>Senior-level/Expert</td>\n",
              "      <td>2021</td>\n",
              "      <td>101861.70</td>\n",
              "    </tr>\n",
              "    <tr>\n",
              "      <th>5</th>\n",
              "      <td>FL</td>\n",
              "      <td>Mid-level/Intermediate</td>\n",
              "      <td>2021</td>\n",
              "      <td>13581.56</td>\n",
              "    </tr>\n",
              "    <tr>\n",
              "      <th>6</th>\n",
              "      <td>FL</td>\n",
              "      <td>Mid-level/Intermediate</td>\n",
              "      <td>2022</td>\n",
              "      <td>9701.11</td>\n",
              "    </tr>\n",
              "    <tr>\n",
              "      <th>7</th>\n",
              "      <td>FL</td>\n",
              "      <td>Senior-level/Expert</td>\n",
              "      <td>2020</td>\n",
              "      <td>5820.67</td>\n",
              "    </tr>\n",
              "    <tr>\n",
              "      <th>8</th>\n",
              "      <td>FT</td>\n",
              "      <td>Entry-level/Junior</td>\n",
              "      <td>2020</td>\n",
              "      <td>635550.57</td>\n",
              "    </tr>\n",
              "    <tr>\n",
              "      <th>9</th>\n",
              "      <td>FT</td>\n",
              "      <td>Entry-level/Junior</td>\n",
              "      <td>2021</td>\n",
              "      <td>1327477.09</td>\n",
              "    </tr>\n",
              "    <tr>\n",
              "      <th>10</th>\n",
              "      <td>FT</td>\n",
              "      <td>Entry-level/Junior</td>\n",
              "      <td>2022</td>\n",
              "      <td>758909.29</td>\n",
              "    </tr>\n",
              "    <tr>\n",
              "      <th>11</th>\n",
              "      <td>FT</td>\n",
              "      <td>Executive-level/Director</td>\n",
              "      <td>2020</td>\n",
              "      <td>80600.82</td>\n",
              "    </tr>\n",
              "    <tr>\n",
              "      <th>12</th>\n",
              "      <td>FT</td>\n",
              "      <td>Executive-level/Director</td>\n",
              "      <td>2021</td>\n",
              "      <td>854142.19</td>\n",
              "    </tr>\n",
              "    <tr>\n",
              "      <th>13</th>\n",
              "      <td>FT</td>\n",
              "      <td>Executive-level/Director</td>\n",
              "      <td>2022</td>\n",
              "      <td>1020922.94</td>\n",
              "    </tr>\n",
              "    <tr>\n",
              "      <th>14</th>\n",
              "      <td>FT</td>\n",
              "      <td>Mid-level/Intermediate</td>\n",
              "      <td>2020</td>\n",
              "      <td>1219298.84</td>\n",
              "    </tr>\n",
              "    <tr>\n",
              "      <th>15</th>\n",
              "      <td>FT</td>\n",
              "      <td>Mid-level/Intermediate</td>\n",
              "      <td>2021</td>\n",
              "      <td>3849309.59</td>\n",
              "    </tr>\n",
              "    <tr>\n",
              "      <th>16</th>\n",
              "      <td>FT</td>\n",
              "      <td>Mid-level/Intermediate</td>\n",
              "      <td>2022</td>\n",
              "      <td>3562111.87</td>\n",
              "    </tr>\n",
              "    <tr>\n",
              "      <th>17</th>\n",
              "      <td>FT</td>\n",
              "      <td>Senior-level/Expert</td>\n",
              "      <td>2020</td>\n",
              "      <td>1281309.40</td>\n",
              "    </tr>\n",
              "    <tr>\n",
              "      <th>18</th>\n",
              "      <td>FT</td>\n",
              "      <td>Senior-level/Expert</td>\n",
              "      <td>2021</td>\n",
              "      <td>3785732.69</td>\n",
              "    </tr>\n",
              "    <tr>\n",
              "      <th>19</th>\n",
              "      <td>FT</td>\n",
              "      <td>Senior-level/Expert</td>\n",
              "      <td>2022</td>\n",
              "      <td>12463580.05</td>\n",
              "    </tr>\n",
              "    <tr>\n",
              "      <th>20</th>\n",
              "      <td>PT</td>\n",
              "      <td>Entry-level/Junior</td>\n",
              "      <td>2020</td>\n",
              "      <td>21176.75</td>\n",
              "    </tr>\n",
              "    <tr>\n",
              "      <th>21</th>\n",
              "      <td>PT</td>\n",
              "      <td>Entry-level/Junior</td>\n",
              "      <td>2021</td>\n",
              "      <td>36102.66</td>\n",
              "    </tr>\n",
              "    <tr>\n",
              "      <th>22</th>\n",
              "      <td>PT</td>\n",
              "      <td>Entry-level/Junior</td>\n",
              "      <td>2022</td>\n",
              "      <td>9701.11</td>\n",
              "    </tr>\n",
              "    <tr>\n",
              "      <th>23</th>\n",
              "      <td>PT</td>\n",
              "      <td>Mid-level/Intermediate</td>\n",
              "      <td>2021</td>\n",
              "      <td>68185.55</td>\n",
              "    </tr>\n",
              "    <tr>\n",
              "      <th>24</th>\n",
              "      <td>PT</td>\n",
              "      <td>Mid-level/Intermediate</td>\n",
              "      <td>2022</td>\n",
              "      <td>5331.45</td>\n",
              "    </tr>\n",
              "  </tbody>\n",
              "</table>\n",
              "</div>\n",
              "      <button class=\"colab-df-convert\" onclick=\"convertToInteractive('df-bd044435-7dce-4af5-b295-fb83f92577b0')\"\n",
              "              title=\"Convert this dataframe to an interactive table.\"\n",
              "              style=\"display:none;\">\n",
              "        \n",
              "  <svg xmlns=\"http://www.w3.org/2000/svg\" height=\"24px\"viewBox=\"0 0 24 24\"\n",
              "       width=\"24px\">\n",
              "    <path d=\"M0 0h24v24H0V0z\" fill=\"none\"/>\n",
              "    <path d=\"M18.56 5.44l.94 2.06.94-2.06 2.06-.94-2.06-.94-.94-2.06-.94 2.06-2.06.94zm-11 1L8.5 8.5l.94-2.06 2.06-.94-2.06-.94L8.5 2.5l-.94 2.06-2.06.94zm10 10l.94 2.06.94-2.06 2.06-.94-2.06-.94-.94-2.06-.94 2.06-2.06.94z\"/><path d=\"M17.41 7.96l-1.37-1.37c-.4-.4-.92-.59-1.43-.59-.52 0-1.04.2-1.43.59L10.3 9.45l-7.72 7.72c-.78.78-.78 2.05 0 2.83L4 21.41c.39.39.9.59 1.41.59.51 0 1.02-.2 1.41-.59l7.78-7.78 2.81-2.81c.8-.78.8-2.07 0-2.86zM5.41 20L4 18.59l7.72-7.72 1.47 1.35L5.41 20z\"/>\n",
              "  </svg>\n",
              "      </button>\n",
              "      \n",
              "  <style>\n",
              "    .colab-df-container {\n",
              "      display:flex;\n",
              "      flex-wrap:wrap;\n",
              "      gap: 12px;\n",
              "    }\n",
              "\n",
              "    .colab-df-convert {\n",
              "      background-color: #E8F0FE;\n",
              "      border: none;\n",
              "      border-radius: 50%;\n",
              "      cursor: pointer;\n",
              "      display: none;\n",
              "      fill: #1967D2;\n",
              "      height: 32px;\n",
              "      padding: 0 0 0 0;\n",
              "      width: 32px;\n",
              "    }\n",
              "\n",
              "    .colab-df-convert:hover {\n",
              "      background-color: #E2EBFA;\n",
              "      box-shadow: 0px 1px 2px rgba(60, 64, 67, 0.3), 0px 1px 3px 1px rgba(60, 64, 67, 0.15);\n",
              "      fill: #174EA6;\n",
              "    }\n",
              "\n",
              "    [theme=dark] .colab-df-convert {\n",
              "      background-color: #3B4455;\n",
              "      fill: #D2E3FC;\n",
              "    }\n",
              "\n",
              "    [theme=dark] .colab-df-convert:hover {\n",
              "      background-color: #434B5C;\n",
              "      box-shadow: 0px 1px 3px 1px rgba(0, 0, 0, 0.15);\n",
              "      filter: drop-shadow(0px 1px 2px rgba(0, 0, 0, 0.3));\n",
              "      fill: #FFFFFF;\n",
              "    }\n",
              "  </style>\n",
              "\n",
              "      <script>\n",
              "        const buttonEl =\n",
              "          document.querySelector('#df-bd044435-7dce-4af5-b295-fb83f92577b0 button.colab-df-convert');\n",
              "        buttonEl.style.display =\n",
              "          google.colab.kernel.accessAllowed ? 'block' : 'none';\n",
              "\n",
              "        async function convertToInteractive(key) {\n",
              "          const element = document.querySelector('#df-bd044435-7dce-4af5-b295-fb83f92577b0');\n",
              "          const dataTable =\n",
              "            await google.colab.kernel.invokeFunction('convertToInteractive',\n",
              "                                                     [key], {});\n",
              "          if (!dataTable) return;\n",
              "\n",
              "          const docLinkHtml = 'Like what you see? Visit the ' +\n",
              "            '<a target=\"_blank\" href=https://colab.research.google.com/notebooks/data_table.ipynb>data table notebook</a>'\n",
              "            + ' to learn more about interactive tables.';\n",
              "          element.innerHTML = '';\n",
              "          dataTable['output_type'] = 'display_data';\n",
              "          await google.colab.output.renderOutput(dataTable, element);\n",
              "          const docLink = document.createElement('div');\n",
              "          docLink.innerHTML = docLinkHtml;\n",
              "          element.appendChild(docLink);\n",
              "        }\n",
              "      </script>\n",
              "    </div>\n",
              "  </div>\n",
              "  "
            ]
          },
          "metadata": {},
          "execution_count": 145
        }
      ]
    },
    {
      "cell_type": "code",
      "source": [
        "# посмотрим на графике\n",
        "df.groupby(['Employment_Status','Experience','Working_Year'])['Salary_In_Rupees'].sum().plot.barh() \n"
      ],
      "metadata": {
        "colab": {
          "base_uri": "https://localhost:8080/",
          "height": 301
        },
        "id": "CLPcNjhIWVA_",
        "outputId": "696f0289-59b9-4491-d4f1-81d1010af831"
      },
      "execution_count": 146,
      "outputs": [
        {
          "output_type": "execute_result",
          "data": {
            "text/plain": [
              "<matplotlib.axes._subplots.AxesSubplot at 0x7f049757e8d0>"
            ]
          },
          "metadata": {},
          "execution_count": 146
        },
        {
          "output_type": "display_data",
          "data": {
            "text/plain": [
              "<Figure size 432x288 with 1 Axes>"
            ],
            "image/png": "[encoded data removed]"
          },
          "metadata": {
            "needs_background": "light"
          }
        }
      ]
    },
    {
      "cell_type": "code",
      "source": [
        "# создали фрейм, отобрав значения, относящиеся к работам только при полной занятости, включив в него уровень опыта, рабочий год и объем выплат - 588 записей\n",
        "de = df.loc[(df['Employment_Status'] == 'FT'),['Experience','Working_Year','Salary_In_Rupees']]\n",
        "de\n"
      ],
      "metadata": {
        "colab": {
          "base_uri": "https://localhost:8080/",
          "height": 424
        },
        "id": "QA8DRcOqXQ-R",
        "outputId": "7affe188-814e-4efd-cf5b-66c94c3f121e"
      },
      "execution_count": 147,
      "outputs": [
        {
          "output_type": "execute_result",
          "data": {
            "text/plain": [
              "                 Experience Working_Year  Salary_In_Rupees\n",
              "0    Mid-level/Intermediate         2020          77446.90\n",
              "1       Senior-level/Expert         2020            327.81\n",
              "2       Senior-level/Expert         2020         105765.42\n",
              "3    Mid-level/Intermediate         2020           1940.22\n",
              "4       Senior-level/Expert         2020         145516.70\n",
              "..                      ...          ...               ...\n",
              "602     Senior-level/Expert         2022          14939.75\n",
              "603     Senior-level/Expert         2022           1533.23\n",
              "604     Senior-level/Expert         2022          15416.37\n",
              "605     Senior-level/Expert         2022         145516.70\n",
              "606  Mid-level/Intermediate         2022           1940.22\n",
              "\n",
              "[588 rows x 3 columns]"
            ],
            "text/html": [
              "\n",
              "  <div id=\"df-84d2bb6a-dad5-447b-aa2c-57b064c46655\">\n",
              "    <div class=\"colab-df-container\">\n",
              "      <div>\n",
              "<style scoped>\n",
              "    .dataframe tbody tr th:only-of-type {\n",
              "        vertical-align: middle;\n",
              "    }\n",
              "\n",
              "    .dataframe tbody tr th {\n",
              "        vertical-align: top;\n",
              "    }\n",
              "\n",
              "    .dataframe thead th {\n",
              "        text-align: right;\n",
              "    }\n",
              "</style>\n",
              "<table border=\"1\" class=\"dataframe\">\n",
              "  <thead>\n",
              "    <tr style=\"text-align: right;\">\n",
              "      <th></th>\n",
              "      <th>Experience</th>\n",
              "      <th>Working_Year</th>\n",
              "      <th>Salary_In_Rupees</th>\n",
              "    </tr>\n",
              "  </thead>\n",
              "  <tbody>\n",
              "    <tr>\n",
              "      <th>0</th>\n",
              "      <td>Mid-level/Intermediate</td>\n",
              "      <td>2020</td>\n",
              "      <td>77446.90</td>\n",
              "    </tr>\n",
              "    <tr>\n",
              "      <th>1</th>\n",
              "      <td>Senior-level/Expert</td>\n",
              "      <td>2020</td>\n",
              "      <td>327.81</td>\n",
              "    </tr>\n",
              "    <tr>\n",
              "      <th>2</th>\n",
              "      <td>Senior-level/Expert</td>\n",
              "      <td>2020</td>\n",
              "      <td>105765.42</td>\n",
              "    </tr>\n",
              "    <tr>\n",
              "      <th>3</th>\n",
              "      <td>Mid-level/Intermediate</td>\n",
              "      <td>2020</td>\n",
              "      <td>1940.22</td>\n",
              "    </tr>\n",
              "    <tr>\n",
              "      <th>4</th>\n",
              "      <td>Senior-level/Expert</td>\n",
              "      <td>2020</td>\n",
              "      <td>145516.70</td>\n",
              "    </tr>\n",
              "    <tr>\n",
              "      <th>...</th>\n",
              "      <td>...</td>\n",
              "      <td>...</td>\n",
              "      <td>...</td>\n",
              "    </tr>\n",
              "    <tr>\n",
              "      <th>602</th>\n",
              "      <td>Senior-level/Expert</td>\n",
              "      <td>2022</td>\n",
              "      <td>14939.75</td>\n",
              "    </tr>\n",
              "    <tr>\n",
              "      <th>603</th>\n",
              "      <td>Senior-level/Expert</td>\n",
              "      <td>2022</td>\n",
              "      <td>1533.23</td>\n",
              "    </tr>\n",
              "    <tr>\n",
              "      <th>604</th>\n",
              "      <td>Senior-level/Expert</td>\n",
              "      <td>2022</td>\n",
              "      <td>15416.37</td>\n",
              "    </tr>\n",
              "    <tr>\n",
              "      <th>605</th>\n",
              "      <td>Senior-level/Expert</td>\n",
              "      <td>2022</td>\n",
              "      <td>145516.70</td>\n",
              "    </tr>\n",
              "    <tr>\n",
              "      <th>606</th>\n",
              "      <td>Mid-level/Intermediate</td>\n",
              "      <td>2022</td>\n",
              "      <td>1940.22</td>\n",
              "    </tr>\n",
              "  </tbody>\n",
              "</table>\n",
              "<p>588 rows × 3 columns</p>\n",
              "</div>\n",
              "      <button class=\"colab-df-convert\" onclick=\"convertToInteractive('df-84d2bb6a-dad5-447b-aa2c-57b064c46655')\"\n",
              "              title=\"Convert this dataframe to an interactive table.\"\n",
              "              style=\"display:none;\">\n",
              "        \n",
              "  <svg xmlns=\"http://www.w3.org/2000/svg\" height=\"24px\"viewBox=\"0 0 24 24\"\n",
              "       width=\"24px\">\n",
              "    <path d=\"M0 0h24v24H0V0z\" fill=\"none\"/>\n",
              "    <path d=\"M18.56 5.44l.94 2.06.94-2.06 2.06-.94-2.06-.94-.94-2.06-.94 2.06-2.06.94zm-11 1L8.5 8.5l.94-2.06 2.06-.94-2.06-.94L8.5 2.5l-.94 2.06-2.06.94zm10 10l.94 2.06.94-2.06 2.06-.94-2.06-.94-.94-2.06-.94 2.06-2.06.94z\"/><path d=\"M17.41 7.96l-1.37-1.37c-.4-.4-.92-.59-1.43-.59-.52 0-1.04.2-1.43.59L10.3 9.45l-7.72 7.72c-.78.78-.78 2.05 0 2.83L4 21.41c.39.39.9.59 1.41.59.51 0 1.02-.2 1.41-.59l7.78-7.78 2.81-2.81c.8-.78.8-2.07 0-2.86zM5.41 20L4 18.59l7.72-7.72 1.47 1.35L5.41 20z\"/>\n",
              "  </svg>\n",
              "      </button>\n",
              "      \n",
              "  <style>\n",
              "    .colab-df-container {\n",
              "      display:flex;\n",
              "      flex-wrap:wrap;\n",
              "      gap: 12px;\n",
              "    }\n",
              "\n",
              "    .colab-df-convert {\n",
              "      background-color: #E8F0FE;\n",
              "      border: none;\n",
              "      border-radius: 50%;\n",
              "      cursor: pointer;\n",
              "      display: none;\n",
              "      fill: #1967D2;\n",
              "      height: 32px;\n",
              "      padding: 0 0 0 0;\n",
              "      width: 32px;\n",
              "    }\n",
              "\n",
              "    .colab-df-convert:hover {\n",
              "      background-color: #E2EBFA;\n",
              "      box-shadow: 0px 1px 2px rgba(60, 64, 67, 0.3), 0px 1px 3px 1px rgba(60, 64, 67, 0.15);\n",
              "      fill: #174EA6;\n",
              "    }\n",
              "\n",
              "    [theme=dark] .colab-df-convert {\n",
              "      background-color: #3B4455;\n",
              "      fill: #D2E3FC;\n",
              "    }\n",
              "\n",
              "    [theme=dark] .colab-df-convert:hover {\n",
              "      background-color: #434B5C;\n",
              "      box-shadow: 0px 1px 3px 1px rgba(0, 0, 0, 0.15);\n",
              "      filter: drop-shadow(0px 1px 2px rgba(0, 0, 0, 0.3));\n",
              "      fill: #FFFFFF;\n",
              "    }\n",
              "  </style>\n",
              "\n",
              "      <script>\n",
              "        const buttonEl =\n",
              "          document.querySelector('#df-84d2bb6a-dad5-447b-aa2c-57b064c46655 button.colab-df-convert');\n",
              "        buttonEl.style.display =\n",
              "          google.colab.kernel.accessAllowed ? 'block' : 'none';\n",
              "\n",
              "        async function convertToInteractive(key) {\n",
              "          const element = document.querySelector('#df-84d2bb6a-dad5-447b-aa2c-57b064c46655');\n",
              "          const dataTable =\n",
              "            await google.colab.kernel.invokeFunction('convertToInteractive',\n",
              "                                                     [key], {});\n",
              "          if (!dataTable) return;\n",
              "\n",
              "          const docLinkHtml = 'Like what you see? Visit the ' +\n",
              "            '<a target=\"_blank\" href=https://colab.research.google.com/notebooks/data_table.ipynb>data table notebook</a>'\n",
              "            + ' to learn more about interactive tables.';\n",
              "          element.innerHTML = '';\n",
              "          dataTable['output_type'] = 'display_data';\n",
              "          await google.colab.output.renderOutput(dataTable, element);\n",
              "          const docLink = document.createElement('div');\n",
              "          docLink.innerHTML = docLinkHtml;\n",
              "          element.appendChild(docLink);\n",
              "        }\n",
              "      </script>\n",
              "    </div>\n",
              "  </div>\n",
              "  "
            ]
          },
          "metadata": {},
          "execution_count": 147
        }
      ]
    },
    {
      "cell_type": "code",
      "source": [
        "# строим круговую диаграмму по группировке в разрезе опыта и года при полной занятости\n",
        "de.groupby(['Experience','Working_Year'])['Salary_In_Rupees'].sum().plot(\n",
        "     kind='pie', y='Salary_In_Rupees', autopct='%1.0f%%') "
      ],
      "metadata": {
        "colab": {
          "base_uri": "https://localhost:8080/",
          "height": 265
        },
        "id": "J236Y3BMjM4l",
        "outputId": "a7eaa6c6-2627-4ec8-f632-acf3ea8da5d1"
      },
      "execution_count": 148,
      "outputs": [
        {
          "output_type": "execute_result",
          "data": {
            "text/plain": [
              "<matplotlib.axes._subplots.AxesSubplot at 0x7f0497459f50>"
            ]
          },
          "metadata": {},
          "execution_count": 148
        },
        {
          "output_type": "display_data",
          "data": {
            "text/plain": [
              "<Figure size 432x288 with 1 Axes>"
            ],
            "image/png": "[encoded data removed]"
          },
          "metadata": {}
        }
      ]
    },
    {
      "cell_type": "markdown",
      "source": [
        "Отберем и проанализируем записи, где значения объема выплат ЗП выше среднего."
      ],
      "metadata": {
        "id": "LgZ0U_P9j2fF"
      }
    },
    {
      "cell_type": "code",
      "source": [
        "# Отбираем данные, где объем выплат ЗП выше среднего\n",
        "high_level = df[df['Salary_In_Rupees']>df['Salary_In_Rupees'].mean()]\n",
        "high_level\n"
      ],
      "metadata": {
        "colab": {
          "base_uri": "https://localhost:8080/",
          "height": 607
        },
        "id": "cAYkjb8PkLFs",
        "outputId": "03b6959e-7f0f-40c2-c6e5-321c19b68115"
      },
      "execution_count": 149,
      "outputs": [
        {
          "output_type": "execute_result",
          "data": {
            "text/plain": [
              "    Working_Year                Designation              Experience  \\\n",
              "0           2020             Data Scientist  Mid-level/Intermediate   \n",
              "2           2020          Big Data Engineer     Senior-level/Expert   \n",
              "4           2020  Machine Learning Engineer     Senior-level/Expert   \n",
              "9           2020         Lead Data Engineer     Senior-level/Expert   \n",
              "13          2020          Lead Data Analyst  Mid-level/Intermediate   \n",
              "..           ...                        ...                     ...   \n",
              "594         2022     Data Analytics Manager     Senior-level/Expert   \n",
              "595         2022     Data Analytics Manager     Senior-level/Expert   \n",
              "597         2022               Data Analyst     Senior-level/Expert   \n",
              "600         2022               Data Analyst      Entry-level/Junior   \n",
              "605         2022               Data Analyst     Senior-level/Expert   \n",
              "\n",
              "    Employment_Status  Salary_In_Rupees Employee_Location Company_Location  \\\n",
              "0                  FT          77446.90                DE               DE   \n",
              "2                  FT         105765.42                GB               GB   \n",
              "4                  FT         145516.70                US               US   \n",
              "9                  FT         121263.92                NZ               NZ   \n",
              "13                 FT          84399.69                US               US   \n",
              "..                ...               ...               ...              ...   \n",
              "594                FT         145768.93                US               US   \n",
              "595                FT         106013.77                US               US   \n",
              "597                FT         164918.93                US               US   \n",
              "600                FT          64997.47                CA               CA   \n",
              "605                FT         145516.70                US               US   \n",
              "\n",
              "    Company_Size  Remote_Working_Ratio  \n",
              "0              L                     0  \n",
              "2              M                    50  \n",
              "4              L                    50  \n",
              "9              S                    50  \n",
              "13             L                   100  \n",
              "..           ...                   ...  \n",
              "594            M                   100  \n",
              "595            M                   100  \n",
              "597            M                   100  \n",
              "600            M                     0  \n",
              "605            M                   100  \n",
              "\n",
              "[211 rows x 9 columns]"
            ],
            "text/html": [
              "\n",
              "  <div id=\"df-1ddd4e71-10df-4de2-a785-0aceda6667d8\">\n",
              "    <div class=\"colab-df-container\">\n",
              "      <div>\n",
              "<style scoped>\n",
              "    .dataframe tbody tr th:only-of-type {\n",
              "        vertical-align: middle;\n",
              "    }\n",
              "\n",
              "    .dataframe tbody tr th {\n",
              "        vertical-align: top;\n",
              "    }\n",
              "\n",
              "    .dataframe thead th {\n",
              "        text-align: right;\n",
              "    }\n",
              "</style>\n",
              "<table border=\"1\" class=\"dataframe\">\n",
              "  <thead>\n",
              "    <tr style=\"text-align: right;\">\n",
              "      <th></th>\n",
              "      <th>Working_Year</th>\n",
              "      <th>Designation</th>\n",
              "      <th>Experience</th>\n",
              "      <th>Employment_Status</th>\n",
              "      <th>Salary_In_Rupees</th>\n",
              "      <th>Employee_Location</th>\n",
              "      <th>Company_Location</th>\n",
              "      <th>Company_Size</th>\n",
              "      <th>Remote_Working_Ratio</th>\n",
              "    </tr>\n",
              "  </thead>\n",
              "  <tbody>\n",
              "    <tr>\n",
              "      <th>0</th>\n",
              "      <td>2020</td>\n",
              "      <td>Data Scientist</td>\n",
              "      <td>Mid-level/Intermediate</td>\n",
              "      <td>FT</td>\n",
              "      <td>77446.90</td>\n",
              "      <td>DE</td>\n",
              "      <td>DE</td>\n",
              "      <td>L</td>\n",
              "      <td>0</td>\n",
              "    </tr>\n",
              "    <tr>\n",
              "      <th>2</th>\n",
              "      <td>2020</td>\n",
              "      <td>Big Data Engineer</td>\n",
              "      <td>Senior-level/Expert</td>\n",
              "      <td>FT</td>\n",
              "      <td>105765.42</td>\n",
              "      <td>GB</td>\n",
              "      <td>GB</td>\n",
              "      <td>M</td>\n",
              "      <td>50</td>\n",
              "    </tr>\n",
              "    <tr>\n",
              "      <th>4</th>\n",
              "      <td>2020</td>\n",
              "      <td>Machine Learning Engineer</td>\n",
              "      <td>Senior-level/Expert</td>\n",
              "      <td>FT</td>\n",
              "      <td>145516.70</td>\n",
              "      <td>US</td>\n",
              "      <td>US</td>\n",
              "      <td>L</td>\n",
              "      <td>50</td>\n",
              "    </tr>\n",
              "    <tr>\n",
              "      <th>9</th>\n",
              "      <td>2020</td>\n",
              "      <td>Lead Data Engineer</td>\n",
              "      <td>Senior-level/Expert</td>\n",
              "      <td>FT</td>\n",
              "      <td>121263.92</td>\n",
              "      <td>NZ</td>\n",
              "      <td>NZ</td>\n",
              "      <td>S</td>\n",
              "      <td>50</td>\n",
              "    </tr>\n",
              "    <tr>\n",
              "      <th>13</th>\n",
              "      <td>2020</td>\n",
              "      <td>Lead Data Analyst</td>\n",
              "      <td>Mid-level/Intermediate</td>\n",
              "      <td>FT</td>\n",
              "      <td>84399.69</td>\n",
              "      <td>US</td>\n",
              "      <td>US</td>\n",
              "      <td>L</td>\n",
              "      <td>100</td>\n",
              "    </tr>\n",
              "    <tr>\n",
              "      <th>...</th>\n",
              "      <td>...</td>\n",
              "      <td>...</td>\n",
              "      <td>...</td>\n",
              "      <td>...</td>\n",
              "      <td>...</td>\n",
              "      <td>...</td>\n",
              "      <td>...</td>\n",
              "      <td>...</td>\n",
              "      <td>...</td>\n",
              "    </tr>\n",
              "    <tr>\n",
              "      <th>594</th>\n",
              "      <td>2022</td>\n",
              "      <td>Data Analytics Manager</td>\n",
              "      <td>Senior-level/Expert</td>\n",
              "      <td>FT</td>\n",
              "      <td>145768.93</td>\n",
              "      <td>US</td>\n",
              "      <td>US</td>\n",
              "      <td>M</td>\n",
              "      <td>100</td>\n",
              "    </tr>\n",
              "    <tr>\n",
              "      <th>595</th>\n",
              "      <td>2022</td>\n",
              "      <td>Data Analytics Manager</td>\n",
              "      <td>Senior-level/Expert</td>\n",
              "      <td>FT</td>\n",
              "      <td>106013.77</td>\n",
              "      <td>US</td>\n",
              "      <td>US</td>\n",
              "      <td>M</td>\n",
              "      <td>100</td>\n",
              "    </tr>\n",
              "    <tr>\n",
              "      <th>597</th>\n",
              "      <td>2022</td>\n",
              "      <td>Data Analyst</td>\n",
              "      <td>Senior-level/Expert</td>\n",
              "      <td>FT</td>\n",
              "      <td>164918.93</td>\n",
              "      <td>US</td>\n",
              "      <td>US</td>\n",
              "      <td>M</td>\n",
              "      <td>100</td>\n",
              "    </tr>\n",
              "    <tr>\n",
              "      <th>600</th>\n",
              "      <td>2022</td>\n",
              "      <td>Data Analyst</td>\n",
              "      <td>Entry-level/Junior</td>\n",
              "      <td>FT</td>\n",
              "      <td>64997.47</td>\n",
              "      <td>CA</td>\n",
              "      <td>CA</td>\n",
              "      <td>M</td>\n",
              "      <td>0</td>\n",
              "    </tr>\n",
              "    <tr>\n",
              "      <th>605</th>\n",
              "      <td>2022</td>\n",
              "      <td>Data Analyst</td>\n",
              "      <td>Senior-level/Expert</td>\n",
              "      <td>FT</td>\n",
              "      <td>145516.70</td>\n",
              "      <td>US</td>\n",
              "      <td>US</td>\n",
              "      <td>M</td>\n",
              "      <td>100</td>\n",
              "    </tr>\n",
              "  </tbody>\n",
              "</table>\n",
              "<p>211 rows × 9 columns</p>\n",
              "</div>\n",
              "      <button class=\"colab-df-convert\" onclick=\"convertToInteractive('df-1ddd4e71-10df-4de2-a785-0aceda6667d8')\"\n",
              "              title=\"Convert this dataframe to an interactive table.\"\n",
              "              style=\"display:none;\">\n",
              "        \n",
              "  <svg xmlns=\"http://www.w3.org/2000/svg\" height=\"24px\"viewBox=\"0 0 24 24\"\n",
              "       width=\"24px\">\n",
              "    <path d=\"M0 0h24v24H0V0z\" fill=\"none\"/>\n",
              "    <path d=\"M18.56 5.44l.94 2.06.94-2.06 2.06-.94-2.06-.94-.94-2.06-.94 2.06-2.06.94zm-11 1L8.5 8.5l.94-2.06 2.06-.94-2.06-.94L8.5 2.5l-.94 2.06-2.06.94zm10 10l.94 2.06.94-2.06 2.06-.94-2.06-.94-.94-2.06-.94 2.06-2.06.94z\"/><path d=\"M17.41 7.96l-1.37-1.37c-.4-.4-.92-.59-1.43-.59-.52 0-1.04.2-1.43.59L10.3 9.45l-7.72 7.72c-.78.78-.78 2.05 0 2.83L4 21.41c.39.39.9.59 1.41.59.51 0 1.02-.2 1.41-.59l7.78-7.78 2.81-2.81c.8-.78.8-2.07 0-2.86zM5.41 20L4 18.59l7.72-7.72 1.47 1.35L5.41 20z\"/>\n",
              "  </svg>\n",
              "      </button>\n",
              "      \n",
              "  <style>\n",
              "    .colab-df-container {\n",
              "      display:flex;\n",
              "      flex-wrap:wrap;\n",
              "      gap: 12px;\n",
              "    }\n",
              "\n",
              "    .colab-df-convert {\n",
              "      background-color: #E8F0FE;\n",
              "      border: none;\n",
              "      border-radius: 50%;\n",
              "      cursor: pointer;\n",
              "      display: none;\n",
              "      fill: #1967D2;\n",
              "      height: 32px;\n",
              "      padding: 0 0 0 0;\n",
              "      width: 32px;\n",
              "    }\n",
              "\n",
              "    .colab-df-convert:hover {\n",
              "      background-color: #E2EBFA;\n",
              "      box-shadow: 0px 1px 2px rgba(60, 64, 67, 0.3), 0px 1px 3px 1px rgba(60, 64, 67, 0.15);\n",
              "      fill: #174EA6;\n",
              "    }\n",
              "\n",
              "    [theme=dark] .colab-df-convert {\n",
              "      background-color: #3B4455;\n",
              "      fill: #D2E3FC;\n",
              "    }\n",
              "\n",
              "    [theme=dark] .colab-df-convert:hover {\n",
              "      background-color: #434B5C;\n",
              "      box-shadow: 0px 1px 3px 1px rgba(0, 0, 0, 0.15);\n",
              "      filter: drop-shadow(0px 1px 2px rgba(0, 0, 0, 0.3));\n",
              "      fill: #FFFFFF;\n",
              "    }\n",
              "  </style>\n",
              "\n",
              "      <script>\n",
              "        const buttonEl =\n",
              "          document.querySelector('#df-1ddd4e71-10df-4de2-a785-0aceda6667d8 button.colab-df-convert');\n",
              "        buttonEl.style.display =\n",
              "          google.colab.kernel.accessAllowed ? 'block' : 'none';\n",
              "\n",
              "        async function convertToInteractive(key) {\n",
              "          const element = document.querySelector('#df-1ddd4e71-10df-4de2-a785-0aceda6667d8');\n",
              "          const dataTable =\n",
              "            await google.colab.kernel.invokeFunction('convertToInteractive',\n",
              "                                                     [key], {});\n",
              "          if (!dataTable) return;\n",
              "\n",
              "          const docLinkHtml = 'Like what you see? Visit the ' +\n",
              "            '<a target=\"_blank\" href=https://colab.research.google.com/notebooks/data_table.ipynb>data table notebook</a>'\n",
              "            + ' to learn more about interactive tables.';\n",
              "          element.innerHTML = '';\n",
              "          dataTable['output_type'] = 'display_data';\n",
              "          await google.colab.output.renderOutput(dataTable, element);\n",
              "          const docLink = document.createElement('div');\n",
              "          docLink.innerHTML = docLinkHtml;\n",
              "          element.appendChild(docLink);\n",
              "        }\n",
              "      </script>\n",
              "    </div>\n",
              "  </div>\n",
              "  "
            ]
          },
          "metadata": {},
          "execution_count": 149
        }
      ]
    },
    {
      "cell_type": "code",
      "source": [
        "# находим сумму выплат выше среднего\n",
        "high_level.Salary_In_Rupees.sum()"
      ],
      "metadata": {
        "colab": {
          "base_uri": "https://localhost:8080/"
        },
        "id": "4D2RoVHZ2-4t",
        "outputId": "2f46c89d-9c9d-491a-9b7c-1c87639310b2"
      },
      "execution_count": 150,
      "outputs": [
        {
          "output_type": "execute_result",
          "data": {
            "text/plain": [
              "26296899.68"
            ]
          },
          "metadata": {},
          "execution_count": 150
        }
      ]
    },
    {
      "cell_type": "markdown",
      "source": [
        "Проведем группировки и визуализацию в полученном датафрейме high level.\n",
        "\n",
        "Посмотрим Топ - 7 стран по объему выплат выше среднего\n"
      ],
      "metadata": {
        "id": "qiq_es7g2T9e"
      }
    },
    {
      "cell_type": "code",
      "source": [
        "# сумма выплат выше среднего по отрасли - по странам нахождения компании. Сортирован по убыванию\n",
        "high_level=high_level.groupby(['Company_Location']).sum()[['Salary_In_Rupees']].sort_values(by='Salary_In_Rupees', ascending=False)\n",
        "high_level"
      ],
      "metadata": {
        "colab": {
          "base_uri": "https://localhost:8080/",
          "height": 677
        },
        "id": "yoB62oNtqi8o",
        "outputId": "023dde5a-490c-4375-b992-4442749fd924"
      },
      "execution_count": 151,
      "outputs": [
        {
          "output_type": "execute_result",
          "data": {
            "text/plain": [
              "                  Salary_In_Rupees\n",
              "Company_Location                  \n",
              "US                     20421873.31\n",
              "GB                      1619586.41\n",
              "CA                      1137563.26\n",
              "DE                       975957.21\n",
              "AU                       314440.25\n",
              "JP                       309818.65\n",
              "ES                       262437.43\n",
              "FR                       196514.48\n",
              "AT                       160424.39\n",
              "IN                       156120.02\n",
              "NZ                       121263.92\n",
              "IL                       115500.49\n",
              "SI                        99765.28\n",
              "BE                        80270.90\n",
              "IE                        69308.63\n",
              "CZ                        67906.82\n",
              "NL                        67656.53\n",
              "GR                        63977.87\n",
              "PT                        56513.83"
            ],
            "text/html": [
              "\n",
              "  <div id=\"df-8f414b5a-4821-4881-b76e-29e98a2fe14d\">\n",
              "    <div class=\"colab-df-container\">\n",
              "      <div>\n",
              "<style scoped>\n",
              "    .dataframe tbody tr th:only-of-type {\n",
              "        vertical-align: middle;\n",
              "    }\n",
              "\n",
              "    .dataframe tbody tr th {\n",
              "        vertical-align: top;\n",
              "    }\n",
              "\n",
              "    .dataframe thead th {\n",
              "        text-align: right;\n",
              "    }\n",
              "</style>\n",
              "<table border=\"1\" class=\"dataframe\">\n",
              "  <thead>\n",
              "    <tr style=\"text-align: right;\">\n",
              "      <th></th>\n",
              "      <th>Salary_In_Rupees</th>\n",
              "    </tr>\n",
              "    <tr>\n",
              "      <th>Company_Location</th>\n",
              "      <th></th>\n",
              "    </tr>\n",
              "  </thead>\n",
              "  <tbody>\n",
              "    <tr>\n",
              "      <th>US</th>\n",
              "      <td>20421873.31</td>\n",
              "    </tr>\n",
              "    <tr>\n",
              "      <th>GB</th>\n",
              "      <td>1619586.41</td>\n",
              "    </tr>\n",
              "    <tr>\n",
              "      <th>CA</th>\n",
              "      <td>1137563.26</td>\n",
              "    </tr>\n",
              "    <tr>\n",
              "      <th>DE</th>\n",
              "      <td>975957.21</td>\n",
              "    </tr>\n",
              "    <tr>\n",
              "      <th>AU</th>\n",
              "      <td>314440.25</td>\n",
              "    </tr>\n",
              "    <tr>\n",
              "      <th>JP</th>\n",
              "      <td>309818.65</td>\n",
              "    </tr>\n",
              "    <tr>\n",
              "      <th>ES</th>\n",
              "      <td>262437.43</td>\n",
              "    </tr>\n",
              "    <tr>\n",
              "      <th>FR</th>\n",
              "      <td>196514.48</td>\n",
              "    </tr>\n",
              "    <tr>\n",
              "      <th>AT</th>\n",
              "      <td>160424.39</td>\n",
              "    </tr>\n",
              "    <tr>\n",
              "      <th>IN</th>\n",
              "      <td>156120.02</td>\n",
              "    </tr>\n",
              "    <tr>\n",
              "      <th>NZ</th>\n",
              "      <td>121263.92</td>\n",
              "    </tr>\n",
              "    <tr>\n",
              "      <th>IL</th>\n",
              "      <td>115500.49</td>\n",
              "    </tr>\n",
              "    <tr>\n",
              "      <th>SI</th>\n",
              "      <td>99765.28</td>\n",
              "    </tr>\n",
              "    <tr>\n",
              "      <th>BE</th>\n",
              "      <td>80270.90</td>\n",
              "    </tr>\n",
              "    <tr>\n",
              "      <th>IE</th>\n",
              "      <td>69308.63</td>\n",
              "    </tr>\n",
              "    <tr>\n",
              "      <th>CZ</th>\n",
              "      <td>67906.82</td>\n",
              "    </tr>\n",
              "    <tr>\n",
              "      <th>NL</th>\n",
              "      <td>67656.53</td>\n",
              "    </tr>\n",
              "    <tr>\n",
              "      <th>GR</th>\n",
              "      <td>63977.87</td>\n",
              "    </tr>\n",
              "    <tr>\n",
              "      <th>PT</th>\n",
              "      <td>56513.83</td>\n",
              "    </tr>\n",
              "  </tbody>\n",
              "</table>\n",
              "</div>\n",
              "      <button class=\"colab-df-convert\" onclick=\"convertToInteractive('df-8f414b5a-4821-4881-b76e-29e98a2fe14d')\"\n",
              "              title=\"Convert this dataframe to an interactive table.\"\n",
              "              style=\"display:none;\">\n",
              "        \n",
              "  <svg xmlns=\"http://www.w3.org/2000/svg\" height=\"24px\"viewBox=\"0 0 24 24\"\n",
              "       width=\"24px\">\n",
              "    <path d=\"M0 0h24v24H0V0z\" fill=\"none\"/>\n",
              "    <path d=\"M18.56 5.44l.94 2.06.94-2.06 2.06-.94-2.06-.94-.94-2.06-.94 2.06-2.06.94zm-11 1L8.5 8.5l.94-2.06 2.06-.94-2.06-.94L8.5 2.5l-.94 2.06-2.06.94zm10 10l.94 2.06.94-2.06 2.06-.94-2.06-.94-.94-2.06-.94 2.06-2.06.94z\"/><path d=\"M17.41 7.96l-1.37-1.37c-.4-.4-.92-.59-1.43-.59-.52 0-1.04.2-1.43.59L10.3 9.45l-7.72 7.72c-.78.78-.78 2.05 0 2.83L4 21.41c.39.39.9.59 1.41.59.51 0 1.02-.2 1.41-.59l7.78-7.78 2.81-2.81c.8-.78.8-2.07 0-2.86zM5.41 20L4 18.59l7.72-7.72 1.47 1.35L5.41 20z\"/>\n",
              "  </svg>\n",
              "      </button>\n",
              "      \n",
              "  <style>\n",
              "    .colab-df-container {\n",
              "      display:flex;\n",
              "      flex-wrap:wrap;\n",
              "      gap: 12px;\n",
              "    }\n",
              "\n",
              "    .colab-df-convert {\n",
              "      background-color: #E8F0FE;\n",
              "      border: none;\n",
              "      border-radius: 50%;\n",
              "      cursor: pointer;\n",
              "      display: none;\n",
              "      fill: #1967D2;\n",
              "      height: 32px;\n",
              "      padding: 0 0 0 0;\n",
              "      width: 32px;\n",
              "    }\n",
              "\n",
              "    .colab-df-convert:hover {\n",
              "      background-color: #E2EBFA;\n",
              "      box-shadow: 0px 1px 2px rgba(60, 64, 67, 0.3), 0px 1px 3px 1px rgba(60, 64, 67, 0.15);\n",
              "      fill: #174EA6;\n",
              "    }\n",
              "\n",
              "    [theme=dark] .colab-df-convert {\n",
              "      background-color: #3B4455;\n",
              "      fill: #D2E3FC;\n",
              "    }\n",
              "\n",
              "    [theme=dark] .colab-df-convert:hover {\n",
              "      background-color: #434B5C;\n",
              "      box-shadow: 0px 1px 3px 1px rgba(0, 0, 0, 0.15);\n",
              "      filter: drop-shadow(0px 1px 2px rgba(0, 0, 0, 0.3));\n",
              "      fill: #FFFFFF;\n",
              "    }\n",
              "  </style>\n",
              "\n",
              "      <script>\n",
              "        const buttonEl =\n",
              "          document.querySelector('#df-8f414b5a-4821-4881-b76e-29e98a2fe14d button.colab-df-convert');\n",
              "        buttonEl.style.display =\n",
              "          google.colab.kernel.accessAllowed ? 'block' : 'none';\n",
              "\n",
              "        async function convertToInteractive(key) {\n",
              "          const element = document.querySelector('#df-8f414b5a-4821-4881-b76e-29e98a2fe14d');\n",
              "          const dataTable =\n",
              "            await google.colab.kernel.invokeFunction('convertToInteractive',\n",
              "                                                     [key], {});\n",
              "          if (!dataTable) return;\n",
              "\n",
              "          const docLinkHtml = 'Like what you see? Visit the ' +\n",
              "            '<a target=\"_blank\" href=https://colab.research.google.com/notebooks/data_table.ipynb>data table notebook</a>'\n",
              "            + ' to learn more about interactive tables.';\n",
              "          element.innerHTML = '';\n",
              "          dataTable['output_type'] = 'display_data';\n",
              "          await google.colab.output.renderOutput(dataTable, element);\n",
              "          const docLink = document.createElement('div');\n",
              "          docLink.innerHTML = docLinkHtml;\n",
              "          element.appendChild(docLink);\n",
              "        }\n",
              "      </script>\n",
              "    </div>\n",
              "  </div>\n",
              "  "
            ]
          },
          "metadata": {},
          "execution_count": 151
        }
      ]
    },
    {
      "cell_type": "code",
      "source": [
        "# График - Построим первые 7 значений по размеру ФОТ по странам\n",
        "d = high_level['Salary_In_Rupees'].head(7)\n",
        "d.plot.barh(table=True)"
      ],
      "metadata": {
        "colab": {
          "base_uri": "https://localhost:8080/",
          "height": 295
        },
        "id": "h1MOk94d3f62",
        "outputId": "96b5efb0-3e81-4150-c46d-0aa321478da1"
      },
      "execution_count": 152,
      "outputs": [
        {
          "output_type": "execute_result",
          "data": {
            "text/plain": [
              "<matplotlib.axes._subplots.AxesSubplot at 0x7f04973f7b50>"
            ]
          },
          "metadata": {},
          "execution_count": 152
        },
        {
          "output_type": "display_data",
          "data": {
            "text/plain": [
              "<Figure size 432x288 with 1 Axes>"
            ],
            "image/png": "[encoded data removed]"
          },
          "metadata": {
            "needs_background": "light"
          }
        }
      ]
    },
    {
      "cell_type": "code",
      "source": [
        "# Та же группировка - на круговой диаграмме\n",
        "d.plot.pie()"
      ],
      "metadata": {
        "colab": {
          "base_uri": "https://localhost:8080/",
          "height": 265
        },
        "id": "NwYEOrVX6aZW",
        "outputId": "3c77ab1f-4a03-4d6e-d725-6119fc3f222c"
      },
      "execution_count": 153,
      "outputs": [
        {
          "output_type": "execute_result",
          "data": {
            "text/plain": [
              "<matplotlib.axes._subplots.AxesSubplot at 0x7f0497370ed0>"
            ]
          },
          "metadata": {},
          "execution_count": 153
        },
        {
          "output_type": "display_data",
          "data": {
            "text/plain": [
              "<Figure size 432x288 with 1 Axes>"
            ],
            "image/png": "[encoded data removed]"
          },
          "metadata": {}
        }
      ]
    }
  ]
}